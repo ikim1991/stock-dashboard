{
 "cells": [
  {
   "cell_type": "code",
   "execution_count": 2,
   "metadata": {},
   "outputs": [],
   "source": [
    "import numpy as np\n",
    "import pandas as pd\n",
    "import math\n",
    "import requests\n",
    "import bs4\n",
    "from bs4 import BeautifulSoup"
   ]
  },
  {
   "cell_type": "code",
   "execution_count": 11,
   "metadata": {},
   "outputs": [],
   "source": [
    "## Import csv of company listing we extracted in previous scripts\n",
    "df = pd.read_csv('./datasets/companylisting.csv', usecols=['ticker']).values"
   ]
  },
  {
   "cell_type": "code",
   "execution_count": 3,
   "metadata": {},
   "outputs": [],
   "source": [
    "## Function for retrieving fundamental company financials using web scraping looking at revenues, expenses, and profitabilities\n",
    "def get_financials(tickers):\n",
    "    financials = []\n",
    "    if type(tickers) == list or type(tickers) == np.ndarray:\n",
    "        for t in tickers:\n",
    "            year = np.nan\n",
    "            last_year = np.nan\n",
    "            notice = np.nan\n",
    "            rev = np.nan\n",
    "            rev_ly = np.nan\n",
    "            cogs = np.nan\n",
    "            cogs_ly = np.nan\n",
    "            gross_profit = np.nan\n",
    "            gross_profit_ly = np.nan\n",
    "            operating_expense = np.nan\n",
    "            operating_expense_ly = np.nan\n",
    "            operating_profit = np.nan\n",
    "            operating_profit_ly = np.nan\n",
    "            net_profit = np.nan\n",
    "            net_profit_ly = np.nan\n",
    "            try:\n",
    "                r = requests.get('https://ca.finance.yahoo.com/quote/{}/financials?p={}'.format(t.replace('.', '-'),t.replace('.', '-')))\n",
    "                soup = bs4.BeautifulSoup(r.text, \"html.parser\")\n",
    "\n",
    "                year = soup.findAll('td', {'class':'C($gray) Ta(end)'})[0].text\n",
    "                last_year = soup.findAll('td', {'class':'C($gray) Ta(end)'})[1].text\n",
    "                notice = soup.findAll('span', {'Fz(xs) C($gray) Mstart(25px) smartphone_Mstart(0px) smartphone_D(b) smartphone_Mt(5px)'})[0].text\n",
    "                rev = soup.findAll('td', {'class':'Fz(s) Ta(end) Pstart(10px)'})[0].text\n",
    "                rev_ly = soup.findAll('td', {'class':'Fz(s) Ta(end) Pstart(10px)'})[1].text\n",
    "                cogs = soup.findAll('td', {'class':'Fz(s) Ta(end) Pstart(10px)'})[4].text\n",
    "                cogs_ly = soup.findAll('td', {'class':'Fz(s) Ta(end) Pstart(10px)'})[5].text\n",
    "                gross_profit = soup.findAll('td', {'class':'Fw(600) Fz(s) Ta(end) Pb(20px)'})[0].text\n",
    "                gross_profit_ly = soup.findAll('td', {'class':'Fw(600) Fz(s) Ta(end) Pb(20px)'})[1].text\n",
    "                operating_expense = soup.findAll('td', {'class':\"Fz(s) Ta(end) Pstart(10px)\"})[24].text\n",
    "                operating_expense_ly = soup.findAll('td', {'class':\"Fz(s) Ta(end) Pstart(10px)\"})[25].text\n",
    "                operating_profit = soup.findAll('td', {'class':'Fw(600) Fz(s) Ta(end) Pb(20px)'})[4].text\n",
    "                operating_profit_ly = soup.findAll('td', {'class':'Fw(600) Fz(s) Ta(end) Pb(20px)'})[5].text\n",
    "                net_profit = soup.findAll('td', {'class':'Fw(600) Ta(end) Py(8px) Pt(36px)'})[0].text\n",
    "                net_profit_ly = soup.findAll('td', {'class':'Fw(600) Ta(end) Py(8px) Pt(36px)'})[1].text\n",
    "\n",
    "                financials.append([t, year, last_year, notice, rev, rev_ly, cogs, cogs_ly, gross_profit, gross_profit_ly, operating_expense, operating_expense_ly, operating_profit, operating_profit_ly, net_profit, net_profit_ly])\n",
    "            except:\n",
    "                print('Error has Occured. Could not Retrieve Data for {}'.format(t))\n",
    "                financials.append([t, np.nan, np.nan, np.nan, np.nan, np.nan, np.nan, np.nan, np.nan, np.nan, np.nan, np.nan, np.nan, np.nan, np.nan, np.nan])\n",
    "    else:\n",
    "        return 'Error: Input Type Not-a-list'\n",
    "    \n",
    "    return financials"
   ]
  },
  {
   "cell_type": "code",
   "execution_count": 4,
   "metadata": {},
   "outputs": [],
   "source": [
    "# Function call for retrieving fundamental data of company balance sheets, mostly to do with assets, liabilities, and equities\n",
    "def get_balance_sheets(tickers):\n",
    "    balance_sheets = []\n",
    "    if type(tickers) == list or type(tickers) == np.ndarray:\n",
    "        for t in tickers:\n",
    "            date = np.nan\n",
    "            notice = np.nan\n",
    "            shareholders_equity = np.nan\n",
    "            total_equity = np.nan\n",
    "            intangible_assets = np.nan\n",
    "            total_assets = np.nan\n",
    "            total_liabilities = np.nan\n",
    "            try:\n",
    "                r = requests.get('https://www.marketwatch.com/investing/stock/{}/financials/balance-sheet/quarter'.format(t.replace('-', '.')))\n",
    "                soup = bs4.BeautifulSoup(r.text, \"html.parser\")\n",
    "                notice = soup.findAll('th')[0].text.strip()\n",
    "                date = soup.findAll('th')[5].text.strip()\n",
    "\n",
    "                for i in range(0,len(soup.findAll('tr', {'class':'partialSum'}))):\n",
    "                    if soup.findAll('tr', {'class':'partialSum'})[i].findChildren()[0].text.strip() == \"Total Shareholders' Equity\":\n",
    "                        shareholders_equity = soup.findAll('tr', {'class':'partialSum'})[i].findChildren()[7].text.strip()\n",
    "                    elif soup.findAll('tr', {'class':'partialSum'})[i].findChildren()[0].text.strip() == 'Total Equity':\n",
    "                        total_equity = soup.findAll('tr', {'class':'partialSum'})[i].findChildren()[5].text.strip()\n",
    "                    else:\n",
    "                        continue\n",
    "                for i in range(0,len(soup.findAll('tr', {'class':'rowLevel-2'}))):\n",
    "                    if soup.findAll('tr', {'class':'rowLevel-2'})[i].findChildren()[0].text.strip() == 'Intangible Assets':\n",
    "                        intangible_assets = soup.findAll('tr', {'class':'rowLevel-2'})[i].findChildren()[5].text.strip()\n",
    "                    else:\n",
    "                        continue\n",
    "                for i in range(0,len(soup.findAll('tr', {'class':'mainRow'}))):\n",
    "                    if soup.findAll('tr', {'class':'mainRow'})[i].findChildren()[0].text.strip() == 'Intangible Assets':\n",
    "                        intangible_assets = soup.findAll('tr', {'class':'mainRow'})[i].findChildren()[5].text.strip()\n",
    "                    else:\n",
    "                        continue\n",
    "                for i in range(0,len(soup.findAll('tr', {'class':'totalRow'}))):\n",
    "                    if soup.findAll('tr', {'class':'totalRow'})[i].findChildren()[0].text.strip() == 'Total Assets':\n",
    "                        total_assets = soup.findAll('tr', {'class':'totalRow'})[i].findChildren()[7].text.strip()\n",
    "                    elif soup.findAll('tr', {'class':'totalRow'})[i].findChildren()[0].text.strip() == 'Total Liabilities':\n",
    "                        total_liabilities = soup.findAll('tr', {'class':'totalRow'})[i].findChildren()[7].text.strip()\n",
    "                    else:\n",
    "                        continue\n",
    "                balance_sheets.append([t, date, notice, total_assets, total_liabilities, intangible_assets, shareholders_equity, total_equity])\n",
    "            except:\n",
    "                print('Error has Occured. Could not Retrieve Data for {}'.format(t))\n",
    "                balance_sheets.append([t, np.nan, np.nan, np.nan, np.nan, np.nan, np.nan, np.nan])\n",
    "    else:\n",
    "        return 'Error: Input Type Not-a-list'\n",
    "    \n",
    "    return balance_sheets"
   ]
  },
  {
   "cell_type": "code",
   "execution_count": 5,
   "metadata": {},
   "outputs": [],
   "source": [
    "## Company's most recent quarter end results in the income statement\n",
    "def get_quarter_ends(tickers):\n",
    "    quarter_ends = []\n",
    "    if type(tickers) == list or type(tickers) == np.ndarray:\n",
    "        date = np.nan\n",
    "        notice = np.nan\n",
    "        revenue = np.nan\n",
    "        gross_profit = np.nan\n",
    "        operating_profit = np.nan\n",
    "        net_income = np.nan\n",
    "        \n",
    "        for t in tickers:\n",
    "            try:\n",
    "                r = requests.get('https://www.barchart.com/stocks/quotes/{}/income-statement/quarterly'.format(t.replace('-', '.')))\n",
    "                soup = bs4.BeautifulSoup(r.text, \"html.parser\")\n",
    "\n",
    "                if soup.findAll('td', {'class':'bc-financial-report__cell-group-field-label'})[0].text.strip() == 'Interest Income':\n",
    "                    for i in range(0,len(soup.findAll('tr'))):\n",
    "                        if soup.findAll('tr')[i].findChildren()[0].text.strip().lower() == 'sales':\n",
    "                            revenue = soup.findAll('tr')[i].findChildren()[1].text.strip()\n",
    "                        elif soup.findAll('tr')[i].findChildren()[0].text.strip().lower() == 'interest expense (net of interest income)':\n",
    "                            gross_profit = soup.findAll('tr')[i].findChildren()[1].text.strip()\n",
    "                        elif soup.findAll('tr')[i].findChildren()[0].text.strip().lower() == 'pre-tax income':\n",
    "                            operating_profit = soup.findAll('tr')[i].findChildren()[1].text.strip()\n",
    "                elif soup.findAll('td', {'class':'bc-financial-report__cell-group-field-label'})[0].text.strip() == 'Sales':\n",
    "                    for i in range(0,len(soup.findAll('tr'))):\n",
    "                        if soup.findAll('tr')[i].findChildren()[0].text.strip().lower() == 'sales':\n",
    "                            revenue = soup.findAll('tr')[i].findChildren()[1].text.strip()\n",
    "                        elif soup.findAll('tr')[i].findChildren()[0].text.strip().lower() == 'gross profit':\n",
    "                            gross_profit = soup.findAll('tr')[i].findChildren()[1].text.strip()\n",
    "                        elif soup.findAll('tr')[i].findChildren()[0].text.strip().lower() == 'operating income $m':\n",
    "                            operating_profit = soup.findAll('tr')[i].findChildren()[1].text.strip()\n",
    "                if type(operating_profit)==float:\n",
    "                    for i in range(0,len(soup.findAll('tr'))):\n",
    "                        if soup.findAll('tr')[i].findChildren()[0].text.strip().lower() == 'pre-tax income':\n",
    "                            operating_profit = soup.findAll('tr')[i].findChildren()[1].text.strip()\n",
    "                        else:\n",
    "                            continue\n",
    "                net_income = soup.findAll('tr', {'class':'bc-financial-report__row-group-total'})[0].findChildren()[1].text.strip()\n",
    "                notice = soup.findAll('span', {'class':'bc-financial-report__notice'})[0].text\n",
    "                date = soup.findAll('tr', {'class':'bc-financial-report__row-dates'})[0].findChildren()[1].text.strip()\n",
    "\n",
    "                quarter_ends.append([t, date, notice, revenue, gross_profit, operating_profit, net_income])\n",
    "\n",
    "            except:\n",
    "                print('Error has Occured. Could not Retrieve Data for {}'.format(t))\n",
    "                quarter_ends.append([t, np.nan, np.nan, np.nan, np.nan, np.nan, np.nan])\n",
    "            \n",
    "    else:\n",
    "        return 'Error: Input Type Not-a-list'\n",
    "    \n",
    "    return quarter_ends"
   ]
  },
  {
   "cell_type": "code",
   "execution_count": 6,
   "metadata": {},
   "outputs": [],
   "source": [
    "## Getting the analyst ratings of companies\n",
    "def get_ratings(tickers):\n",
    "    ratings = []\n",
    "    if type(tickers) == list or type(tickers) == np.ndarray:\n",
    "        for t in tickers:\n",
    "            rating = np.nan\n",
    "            try:\n",
    "                r = requests.get('https://www.barchart.com/stocks/quotes/{}/analyst-ratings'.format(t.replace('-', '.')))\n",
    "                soup = bs4.BeautifulSoup(r.text, \"html.parser\")\n",
    "                rating = soup.findAll('div', {'class': 'block__colored-header rating'})[3].text.strip()\n",
    "                ratings.append([t, rating])\n",
    "                \n",
    "            except:\n",
    "                print('Error has Occured. Could not Retrieve Data for {}'.format(t))\n",
    "                ratings.append([t, np.nan])\n",
    "    else:\n",
    "        return 'Error: Input Type Not-a-list'\n",
    "    \n",
    "    return ratings"
   ]
  },
  {
   "cell_type": "code",
   "execution_count": 7,
   "metadata": {},
   "outputs": [],
   "source": [
    "tickers = df['ticker'].values"
   ]
  },
  {
   "cell_type": "code",
   "execution_count": 8,
   "metadata": {},
   "outputs": [],
   "source": [
    "## Web Scraping in batches\n",
    "batchA = tickers[:50]\n",
    "batchB = tickers[50:100]\n",
    "batchC = tickers[100:150]\n",
    "batchD = tickers[150:200]\n",
    "batchE = tickers[200:250]\n",
    "batchF = tickers[250:300]\n",
    "batchG = tickers[300:350]\n",
    "batchH = tickers[350:400]\n",
    "batchI = tickers[400:450]\n",
    "batchJ = tickers[450:500]\n",
    "batchK = tickers[500:550]\n",
    "batchL = tickers[550:600]\n",
    "batchM = tickers[600:650]\n",
    "batchN = tickers[650:700]\n",
    "batchO = tickers[700:]"
   ]
  },
  {
   "cell_type": "code",
   "execution_count": 9,
   "metadata": {},
   "outputs": [
    {
     "name": "stdout",
     "output_type": "stream",
     "text": [
      "Error has Occured. Could not Retrieve Data for ABMD\n",
      "Error has Occured. Could not Retrieve Data for AMCR\n",
      "Error has Occured. Could not Retrieve Data for AATDF\n"
     ]
    }
   ],
   "source": [
    "financialsA = get_financials(batchA)\n",
    "balanceSheetA = get_balance_sheets(batchA)\n",
    "quarterEndA = get_quarter_ends(batchA)\n",
    "ratingsA = get_ratings(batchA)"
   ]
  },
  {
   "cell_type": "code",
   "execution_count": 10,
   "metadata": {},
   "outputs": [],
   "source": [
    "financialsB = get_financials(batchB)\n",
    "balanceSheetB = get_balance_sheets(batchB)\n",
    "quarterEndB = get_quarter_ends(batchB)\n",
    "ratingsB = get_ratings(batchB)"
   ]
  },
  {
   "cell_type": "code",
   "execution_count": 11,
   "metadata": {},
   "outputs": [
    {
     "name": "stdout",
     "output_type": "stream",
     "text": [
      "Error has Occured. Could not Retrieve Data for CHTR\n",
      "Error has Occured. Could not Retrieve Data for BRRAY\n",
      "Error has Occured. Could not Retrieve Data for BTLCY\n",
      "Error has Occured. Could not Retrieve Data for BYPLF\n",
      "Error has Occured. Could not Retrieve Data for CCLAY\n",
      "Error has Occured. Could not Retrieve Data for CICOY\n"
     ]
    }
   ],
   "source": [
    "financialsC = get_financials(batchC)\n",
    "balanceSheetC = get_balance_sheets(batchC)\n",
    "quarterEndC = get_quarter_ends(batchC)\n",
    "ratingsC = get_ratings(batchC)"
   ]
  },
  {
   "cell_type": "code",
   "execution_count": 12,
   "metadata": {},
   "outputs": [
    {
     "name": "stdout",
     "output_type": "stream",
     "text": [
      "Error has Occured. Could not Retrieve Data for CTVA\n"
     ]
    }
   ],
   "source": [
    "financialsD = get_financials(batchD)\n",
    "balanceSheetD = get_balance_sheets(batchD)\n",
    "quarterEndD = get_quarter_ends(batchD)\n",
    "ratingsD = get_ratings(batchD)"
   ]
  },
  {
   "cell_type": "code",
   "execution_count": 13,
   "metadata": {},
   "outputs": [
    {
     "name": "stdout",
     "output_type": "stream",
     "text": [
      "Error has Occured. Could not Retrieve Data for DRE\n",
      "Error has Occured. Could not Retrieve Data for DXC\n",
      "Error has Occured. Could not Retrieve Data for EVRG\n",
      "Error has Occured. Could not Retrieve Data for ENQUF\n"
     ]
    }
   ],
   "source": [
    "financialsE = get_financials(batchE)\n",
    "balanceSheetE = get_balance_sheets(batchE)\n",
    "quarterEndE = get_quarter_ends(batchE)\n",
    "ratingsE = get_ratings(batchE)"
   ]
  },
  {
   "cell_type": "code",
   "execution_count": 14,
   "metadata": {},
   "outputs": [
    {
     "name": "stdout",
     "output_type": "stream",
     "text": [
      "Error has Occured. Could not Retrieve Data for EVRZF\n",
      "Error has Occured. Could not Retrieve Data for GFI\n",
      "Error has Occured. Could not Retrieve Data for GLAPY\n"
     ]
    }
   ],
   "source": [
    "financialsF = get_financials(batchF)\n",
    "balanceSheetF = get_balance_sheets(batchF)\n",
    "quarterEndF = get_quarter_ends(batchF)\n",
    "ratingsF = get_ratings(batchF)"
   ]
  },
  {
   "cell_type": "code",
   "execution_count": 15,
   "metadata": {},
   "outputs": [
    {
     "name": "stdout",
     "output_type": "stream",
     "text": [
      "Error has Occured. Could not Retrieve Data for HRZN\n",
      "Error has Occured. Could not Retrieve Data for INFO\n",
      "Error has Occured. Could not Retrieve Data for HMSNF\n",
      "Error has Occured. Could not Retrieve Data for HSNGY\n"
     ]
    }
   ],
   "source": [
    "financialsG = get_financials(batchG)\n",
    "balanceSheetG = get_balance_sheets(batchG)\n",
    "quarterEndG = get_quarter_ends(batchG)\n",
    "ratingsG = get_ratings(batchG)"
   ]
  },
  {
   "cell_type": "code",
   "execution_count": 16,
   "metadata": {},
   "outputs": [
    {
     "name": "stdout",
     "output_type": "stream",
     "text": [
      "Error has Occured. Could not Retrieve Data for IQV\n",
      "Error has Occured. Could not Retrieve Data for JCI\n",
      "Error has Occured. Could not Retrieve Data for LHX\n",
      "Error has Occured. Could not Retrieve Data for JDWPY\n",
      "Error has Occured. Could not Retrieve Data for KGFHY\n"
     ]
    }
   ],
   "source": [
    "financialsH = get_financials(batchH)\n",
    "balanceSheetH = get_balance_sheets(batchH)\n",
    "quarterEndH = get_quarter_ends(batchH)\n",
    "ratingsH = get_ratings(batchH)"
   ]
  },
  {
   "cell_type": "code",
   "execution_count": 17,
   "metadata": {},
   "outputs": [
    {
     "name": "stdout",
     "output_type": "stream",
     "text": [
      "Error has Occured. Could not Retrieve Data for LSGOF\n",
      "Error has Occured. Could not Retrieve Data for MBNKF\n"
     ]
    }
   ],
   "source": [
    "financialsI = get_financials(batchI)\n",
    "balanceSheetI = get_balance_sheets(batchI)\n",
    "quarterEndI = get_quarter_ends(batchI)\n",
    "ratingsI = get_ratings(batchI)"
   ]
  },
  {
   "cell_type": "code",
   "execution_count": 18,
   "metadata": {},
   "outputs": [
    {
     "name": "stdout",
     "output_type": "stream",
     "text": [
      "Error has Occured. Could not Retrieve Data for NILSY\n",
      "Error has Occured. Could not Retrieve Data for NPCPF\n"
     ]
    }
   ],
   "source": [
    "financialsJ = get_financials(batchJ)\n",
    "balanceSheetJ = get_balance_sheets(batchJ)\n",
    "quarterEndJ = get_quarter_ends(batchJ)\n",
    "ratingsJ = get_ratings(batchJ)"
   ]
  },
  {
   "cell_type": "code",
   "execution_count": 19,
   "metadata": {},
   "outputs": [
    {
     "name": "stdout",
     "output_type": "stream",
     "text": [
      "Error has Occured. Could not Retrieve Data for PUBGY\n",
      "Error has Occured. Could not Retrieve Data for RBGLY\n"
     ]
    }
   ],
   "source": [
    "financialsK = get_financials(batchK)\n",
    "balanceSheetK = get_balance_sheets(batchK)\n",
    "quarterEndK = get_quarter_ends(batchK)\n",
    "ratingsK = get_ratings(batchK)"
   ]
  },
  {
   "cell_type": "code",
   "execution_count": 20,
   "metadata": {},
   "outputs": [
    {
     "name": "stdout",
     "output_type": "stream",
     "text": [
      "Error has Occured. Could not Retrieve Data for REGN\n",
      "Error has Occured. Could not Retrieve Data for ROP\n",
      "Error has Occured. Could not Retrieve Data for SNPS\n",
      "Error has Occured. Could not Retrieve Data for SBAC\n",
      "Error has Occured. Could not Retrieve Data for RNSHF\n",
      "Error has Occured. Could not Retrieve Data for RYCEY\n",
      "Error has Occured. Could not Retrieve Data for SAGKF\n",
      "Error has Occured. Could not Retrieve Data for SAPMF\n",
      "Error has Occured. Could not Retrieve Data for SCBFF\n",
      "Error has Occured. Could not Retrieve Data for SMGZY\n",
      "Error has Occured. Could not Retrieve Data for SNPTF\n"
     ]
    }
   ],
   "source": [
    "financialsL = get_financials(batchL)\n",
    "balanceSheetL = get_balance_sheets(batchL)\n",
    "quarterEndL = get_quarter_ends(batchL)\n",
    "ratingsL = get_ratings(batchL)"
   ]
  },
  {
   "cell_type": "code",
   "execution_count": 21,
   "metadata": {},
   "outputs": [
    {
     "name": "stdout",
     "output_type": "stream",
     "text": [
      "Error has Occured. Could not Retrieve Data for TAP\n",
      "Error has Occured. Could not Retrieve Data for SOCLF\n",
      "Error has Occured. Could not Retrieve Data for SPKKY\n",
      "Error has Occured. Could not Retrieve Data for TMNSF\n"
     ]
    }
   ],
   "source": [
    "financialsM = get_financials(batchM)\n",
    "balanceSheetM = get_balance_sheets(batchM)\n",
    "quarterEndM = get_quarter_ends(batchM)\n",
    "ratingsM = get_ratings(batchM)"
   ]
  },
  {
   "cell_type": "code",
   "execution_count": 22,
   "metadata": {},
   "outputs": [
    {
     "name": "stdout",
     "output_type": "stream",
     "text": [
      "Error has Occured. Could not Retrieve Data for UDR\n",
      "Error has Occured. Could not Retrieve Data for VLEEY\n"
     ]
    }
   ],
   "source": [
    "financialsN = get_financials(batchN)\n",
    "balanceSheetN = get_balance_sheets(batchN)\n",
    "quarterEndN = get_quarter_ends(batchN)\n",
    "ratingsN = get_ratings(batchN)"
   ]
  },
  {
   "cell_type": "code",
   "execution_count": 23,
   "metadata": {},
   "outputs": [
    {
     "name": "stdout",
     "output_type": "stream",
     "text": [
      "Error has Occured. Could not Retrieve Data for WOPEY\n",
      "Error has Occured. Could not Retrieve Data for WTKWY\n"
     ]
    }
   ],
   "source": [
    "financialsO = get_financials(batchO)\n",
    "balanceSheetO = get_balance_sheets(batchO)\n",
    "quarterEndO = get_quarter_ends(batchO)\n",
    "ratingsO = get_ratings(batchO)"
   ]
  },
  {
   "cell_type": "code",
   "execution_count": 24,
   "metadata": {},
   "outputs": [],
   "source": [
    "## Concatenate all the batches\n",
    "financials = np.concatenate((financialsA, financialsB, financialsC, financialsD, financialsE, financialsF, financialsG, financialsH, financialsI, financialsJ, financialsK, financialsL, financialsM, financialsN, financialsO), axis=0)\n",
    "balanceSheet = np.concatenate((balanceSheetA, balanceSheetB, balanceSheetC, balanceSheetD, balanceSheetE, balanceSheetF, balanceSheetG, balanceSheetH, balanceSheetI, balanceSheetJ, balanceSheetK, balanceSheetL, balanceSheetM, balanceSheetN, balanceSheetO), axis=0)\n",
    "quarterEnd = np.concatenate((quarterEndA, quarterEndB, quarterEndC, quarterEndD, quarterEndE, quarterEndF, quarterEndG, quarterEndH, quarterEndI, quarterEndJ, quarterEndK, quarterEndL, quarterEndM, quarterEndN, quarterEndO), axis=0)\n",
    "ratings = np.concatenate((ratingsA, ratingsB, ratingsC, ratingsD, ratingsE, ratingsF, ratingsG, ratingsH, ratingsI, ratingsJ, ratingsK, ratingsL, ratingsM, ratingsN, ratingsO), axis=0)"
   ]
  },
  {
   "cell_type": "code",
   "execution_count": 25,
   "metadata": {
    "scrolled": false
   },
   "outputs": [],
   "source": [
    "## Export into a csv file format\n",
    "column_names = ['ticker', 'year', 'last_year', 'notice', 'revenue', 'revenue_ly', 'cogs', 'cogs_ly', 'gross_profit', 'gross_profit_ly', 'operating_expense', 'operating_expense_ly', 'operating_profit', 'operating_profit_ly', 'net_profit', 'net_profit_ly']\n",
    "financials = pd.DataFrame(data=financials, columns=column_names)\n",
    "financials.to_csv('./datasets/company_financials.csv')"
   ]
  },
  {
   "cell_type": "code",
   "execution_count": 26,
   "metadata": {},
   "outputs": [],
   "source": [
    "## Export into a csv file format\n",
    "column_names = ['ticker', 'quarter_end', 'notice', 'total_assets', 'total_liabilities', 'intangible_assets', 'shareholders_equity', 'total_equity']\n",
    "balanceSheet = pd.DataFrame(data=balanceSheet, columns=column_names)\n",
    "balanceSheet.to_csv('./datasets/company_balance_sheets.csv')"
   ]
  },
  {
   "cell_type": "code",
   "execution_count": 27,
   "metadata": {},
   "outputs": [],
   "source": [
    "## Export into a csv file format\n",
    "column_names = ['ticker', 'quarter_end', 'notice', 'revenue', 'gross_profit', 'operating_profit', 'net_income']\n",
    "quarterEnd = pd.DataFrame(data=quarterEnd, columns=column_names)\n",
    "quarterEnd.to_csv('./datasets/company_quarter_ends.csv')"
   ]
  },
  {
   "cell_type": "code",
   "execution_count": 28,
   "metadata": {},
   "outputs": [],
   "source": [
    "## Export into a csv file format\n",
    "column_names = ['ticker', 'ratings']\n",
    "ratings = pd.DataFrame(data=ratings, columns=column_names)\n",
    "ratings.to_csv('./datasets/company_ratings.csv')"
   ]
  },
  {
   "cell_type": "code",
   "execution_count": null,
   "metadata": {},
   "outputs": [],
   "source": []
  }
 ],
 "metadata": {
  "kernelspec": {
   "display_name": "Python 3",
   "language": "python",
   "name": "python3"
  },
  "language_info": {
   "codemirror_mode": {
    "name": "ipython",
    "version": 3
   },
   "file_extension": ".py",
   "mimetype": "text/x-python",
   "name": "python",
   "nbconvert_exporter": "python",
   "pygments_lexer": "ipython3",
   "version": "3.7.3"
  }
 },
 "nbformat": 4,
 "nbformat_minor": 2
}
