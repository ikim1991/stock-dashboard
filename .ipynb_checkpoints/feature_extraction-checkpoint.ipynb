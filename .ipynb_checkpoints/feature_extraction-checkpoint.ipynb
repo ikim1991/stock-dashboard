{
 "cells": [
  {
   "cell_type": "code",
   "execution_count": 81,
   "metadata": {},
   "outputs": [],
   "source": [
    "# Import Libraries for data extraction\n",
    "import numpy as np\n",
    "import pandas as pd\n",
    "import requests\n",
    "import bs4\n",
    "from bs4 import BeautifulSoup"
   ]
  },
  {
   "cell_type": "code",
   "execution_count": 82,
   "metadata": {},
   "outputs": [],
   "source": [
    "# Get List of S&P500 Companies\n",
    "r = requests.get('https://en.wikipedia.org/wiki/List_of_S%26P_500_companies')\n",
    "soup = bs4.BeautifulSoup(r.text, \"html.parser\")\n",
    "companylist = soup.findAll('td')"
   ]
  },
  {
   "cell_type": "code",
   "execution_count": 83,
   "metadata": {},
   "outputs": [],
   "source": [
    "tickers = []\n",
    "company = []\n",
    "gics = []"
   ]
  },
  {
   "cell_type": "code",
   "execution_count": 84,
   "metadata": {},
   "outputs": [],
   "source": [
    "for i in range(0,5783, 9):\n",
    "    if len(tickers) > 504:\n",
    "        break\n",
    "    else:\n",
    "        tickers.append(companylist[i].text.strip())\n",
    "for i in range(1,5783, 9):\n",
    "    if len(company) > 504:\n",
    "        break\n",
    "    else:\n",
    "        company.append(companylist[i].text.strip())\n",
    "for i in range(3, 5783, 9):\n",
    "    if len(gics) > 504:\n",
    "        break\n",
    "    else:\n",
    "        gics.append(companylist[i].text.strip())"
   ]
  },
  {
   "cell_type": "code",
   "execution_count": 85,
   "metadata": {},
   "outputs": [],
   "source": [
    "sp500 = np.array([tickers[0], company[0], gics[0]])\n",
    "for i in range(1,len(tickers)):\n",
    "    sp500 = np.append(sp500, [tickers[i], company[i], gics[i]])"
   ]
  },
  {
   "cell_type": "code",
   "execution_count": 86,
   "metadata": {},
   "outputs": [],
   "source": [
    "sp500 = sp500.reshape(505,3)\n",
    "column_name = ['ticker', 'company', 'sector']\n",
    "df = pd.DataFrame(sp500, columns = column_name)"
   ]
  },
  {
   "cell_type": "code",
   "execution_count": 87,
   "metadata": {},
   "outputs": [],
   "source": [
    "df.to_csv('./s&p500companies.csv')"
   ]
  },
  {
   "cell_type": "code",
   "execution_count": null,
   "metadata": {},
   "outputs": [],
   "source": []
  }
 ],
 "metadata": {
  "kernelspec": {
   "display_name": "Python 3",
   "language": "python",
   "name": "python3"
  },
  "language_info": {
   "codemirror_mode": {
    "name": "ipython",
    "version": 3
   },
   "file_extension": ".py",
   "mimetype": "text/x-python",
   "name": "python",
   "nbconvert_exporter": "python",
   "pygments_lexer": "ipython3",
   "version": "3.7.3"
  }
 },
 "nbformat": 4,
 "nbformat_minor": 2
}
