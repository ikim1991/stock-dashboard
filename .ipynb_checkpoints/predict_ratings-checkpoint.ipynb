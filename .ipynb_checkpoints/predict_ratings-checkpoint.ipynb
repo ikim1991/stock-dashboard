{
 "cells": [
  {
   "cell_type": "code",
   "execution_count": 1,
   "metadata": {},
   "outputs": [],
   "source": [
    "import pandas as pd\n",
    "import numpy as np\n",
    "import psycopg2\n",
    "import pickle"
   ]
  },
  {
   "cell_type": "code",
   "execution_count": 2,
   "metadata": {},
   "outputs": [],
   "source": [
    "## Connect to SQL database\n",
    "conn = psycopg2.connect(database = 'cuzegotk',user = 'cuzegotk',password = 'NekW2BqJ8hW1wO3hCdpuEESPiP-y131V',host = 'raja.db.elephantsql.com')\n",
    "cur = conn.cursor()\n",
    "## Get Joined table of the company financials, and ratings\n",
    "cur.execute('SELECT companyfinancials.ticker, revenue, revenue_ly, rating FROM companyfinancials JOIN companyratings ON companyfinancials.ticker = companyratings.ticker')\n",
    "financials_a = cur.fetchall()\n",
    "cur.close()\n",
    "conn.close()"
   ]
  },
  {
   "cell_type": "code",
   "execution_count": 3,
   "metadata": {},
   "outputs": [],
   "source": [
    "## Connect to SQL database\n",
    "conn = psycopg2.connect(database = 'cuzegotk',user = 'cuzegotk',password = 'NekW2BqJ8hW1wO3hCdpuEESPiP-y131V',host = 'raja.db.elephantsql.com')\n",
    "cur = conn.cursor()\n",
    "## Get Joined table of the company balance sheets, quarter-ends, and shares_outstanding\n",
    "cur.execute('SELECT Q.ticker, shares_outstanding, total_assets, total_liabilities, intangible_assets, shareholders_equity, total_equity,revenue,gross_profit,net_income FROM companybalancesheets B JOIN companyquarterends Q ON Q.ticker = B.ticker JOIN sharesoutstanding S ON S.ticker = B.ticker JOIN companylisting L ON L.ticker = S.ticker')\n",
    "financials_q = cur.fetchall()\n",
    "cur.close()\n",
    "conn.close()"
   ]
  },
  {
   "cell_type": "code",
   "execution_count": 5,
   "metadata": {},
   "outputs": [],
   "source": [
    "maximum = pd.read_csv('./datasets/featurescalingmax.csv', usecols=[1])\n",
    "# maximum.index = ['industrials', 'consumer_discretionary', 'tech', 'health_care', 'energy', 'consumer_staples', 'utilities', 'real_estate', 'materials', 'communication_services', eps', 'bvs', 'roe', 'roa', debt-to-equity, 'debt-to-asset', 'gross-margin', 'operating-margin', 'net-margin' 'yoy-revenue-growth']\n",
    "minimum = pd.read_csv('./datasets/featurescalingmin.csv', usecols=[1])\n",
    "# minimum.index = ['industrials', 'consumer_discretionary', 'tech', 'health_care', 'energy', 'consumer_staples', 'utilities', 'real_estate', 'materials', 'communication_services', eps', 'bvs', 'roe', 'roa', debt-to-equity, 'debt-to-asset', 'gross-margin', 'operating-margin', 'net-margin' 'yoy-revenue-growth']"
   ]
  },
  {
   "cell_type": "code",
   "execution_count": 6,
   "metadata": {},
   "outputs": [],
   "source": [
    "maximum = maximum.iloc[:,0].values\n",
    "minimum = minimum.iloc[:,0].values"
   ]
  },
  {
   "cell_type": "code",
   "execution_count": 7,
   "metadata": {},
   "outputs": [
    {
     "data": {
      "text/plain": [
       "array([  1.        ,   1.        ,   1.        ,   1.        ,\n",
       "         1.        ,   1.        ,   1.        ,   1.        ,\n",
       "         1.        ,   1.        ,   8.100298  , 153.10345   ,\n",
       "         1.0839844 ,   1.0839844 ,  16.457205  ,   4.6115317 ,\n",
       "         0.97879857,   0.6585055 ,   0.66042817,   5.422786  ])"
      ]
     },
     "execution_count": 7,
     "metadata": {},
     "output_type": "execute_result"
    }
   ],
   "source": [
    "maximum"
   ]
  },
  {
   "cell_type": "code",
   "execution_count": 8,
   "metadata": {},
   "outputs": [
    {
     "data": {
      "text/plain": [
       "array([  0.        ,   0.        ,   0.        ,   0.        ,\n",
       "         0.        ,   0.        ,   0.        ,   0.        ,\n",
       "         0.        ,   0.        ,  -4.4405665 , -67.912575  ,\n",
       "        -1.9845061 ,  -1.9845061 , -29.083279  ,   0.13505839,\n",
       "        -0.5255982 ,  -4.759597  , -14.180303  ,  -0.31798622])"
      ]
     },
     "execution_count": 8,
     "metadata": {},
     "output_type": "execute_result"
    }
   ],
   "source": [
    "minimum"
   ]
  },
  {
   "cell_type": "code",
   "execution_count": 6,
   "metadata": {},
   "outputs": [],
   "source": [
    "# Define columns annual financials\n",
    "a_columns = ['ticker', 'revenue', 'revenue_ly', 'rating']\n",
    "# Define columns of quarter financials\n",
    "q_columns = ['ticker', 'shares_outstanding', 'total_assets', 'total_liabilities', 'intangible_assets', 'shareholders_equity', 'total_equity', 'revenue', 'gross_profit', 'net_income']"
   ]
  },
  {
   "cell_type": "code",
   "execution_count": 7,
   "metadata": {},
   "outputs": [],
   "source": [
    "financials_a = pd.DataFrame(financials_a, columns=a_columns)\n",
    "financials_q = pd.DataFrame(financials_q, columns=q_columns)"
   ]
  },
  {
   "cell_type": "code",
   "execution_count": 8,
   "metadata": {},
   "outputs": [],
   "source": [
    "ratings = financials_a['rating']\n",
    "financials_a = financials_a.iloc[:,:-1]"
   ]
  },
  {
   "cell_type": "code",
   "execution_count": 9,
   "metadata": {},
   "outputs": [
    {
     "data": {
      "text/plain": [
       "Moderate Buy     340\n",
       "Hold             183\n",
       "Strong Buy       101\n",
       "Moderate Sell     72\n",
       "Strong Sell       24\n",
       "No Ratings         8\n",
       "Name: rating, dtype: int64"
      ]
     },
     "execution_count": 9,
     "metadata": {},
     "output_type": "execute_result"
    }
   ],
   "source": [
    "ratings.value_counts()"
   ]
  },
  {
   "cell_type": "code",
   "execution_count": 10,
   "metadata": {},
   "outputs": [],
   "source": [
    "encode_ratings = {\n",
    "    'Strong Sell': 0,\n",
    "    'Moderate Sell': 0,\n",
    "    'Hold': 1,\n",
    "    'Moderate Buy': 2,\n",
    "    'Strong Buy': 2\n",
    "}"
   ]
  },
  {
   "cell_type": "code",
   "execution_count": 11,
   "metadata": {},
   "outputs": [],
   "source": [
    "ratings = ratings.map(encode_ratings)"
   ]
  },
  {
   "cell_type": "code",
   "execution_count": 12,
   "metadata": {},
   "outputs": [],
   "source": [
    "eps = (financials_q.net_income / financials_q.shares_outstanding).values.reshape(len(financials_a), 1)\n",
    "bvs = ((financials_q.total_assets - financials_q.total_liabilities - financials_q.intangible_assets) / financials_q.shares_outstanding).values.reshape(len(financials_a), 1)\n",
    "roe = (financials_q.net_income / financials_q.shareholders_equity).values.reshape(len(financials_a), 1)\n",
    "roa = (financials_q.net_income / financials_q.shareholders_equity).values.reshape(len(financials_a), 1)\n",
    "dta = (financials_q.total_liabilities / financials_q.total_assets).values.reshape(len(financials_a), 1)\n",
    "gross = (financials_q.gross_profit / financials_q.revenue).values.reshape(len(financials_a), 1)\n",
    "yoy = ((financials_a.revenue - financials_a.revenue_ly) / financials_a.revenue_ly).values.reshape(len(financials_a), 1)"
   ]
  },
  {
   "cell_type": "code",
   "execution_count": 13,
   "metadata": {},
   "outputs": [],
   "source": [
    "features = np.concatenate((eps, bvs, roe, roa, dta, gross, yoy), axis = 1)"
   ]
  },
  {
   "cell_type": "code",
   "execution_count": 14,
   "metadata": {},
   "outputs": [],
   "source": [
    "df = pd.DataFrame(features)"
   ]
  },
  {
   "cell_type": "code",
   "execution_count": 15,
   "metadata": {},
   "outputs": [],
   "source": [
    "feature_scaling = (features - minimum) / (maximum - minimum)"
   ]
  },
  {
   "cell_type": "code",
   "execution_count": 16,
   "metadata": {},
   "outputs": [],
   "source": [
    "filename = 'model.pkl'\n",
    "model = pickle.load(open(filename, 'rb'))"
   ]
  },
  {
   "cell_type": "code",
   "execution_count": 17,
   "metadata": {},
   "outputs": [],
   "source": [
    "predicted_ratings = []\n",
    "for i in range(len(feature_scaling)):\n",
    "    try:\n",
    "        predicted_ratings.append(int(model.predict(feature_scaling[i,:].reshape(1,-1))[0]))\n",
    "    except:\n",
    "        predicted_ratings.append(np.nan)"
   ]
  },
  {
   "cell_type": "code",
   "execution_count": 18,
   "metadata": {},
   "outputs": [],
   "source": [
    "for i,v in enumerate(predicted_ratings):\n",
    "    if v == 0:\n",
    "        predicted_ratings[i] = 'Sell'\n",
    "    elif v == 1:\n",
    "        predicted_ratings[i] = 'Hold'\n",
    "    elif v ==2:\n",
    "        predicted_ratings[i] = 'Buy'\n",
    "    else:\n",
    "        predicted_ratings[i] = 'No Ratings'\n",
    "        \n",
    "for i,v in enumerate(ratings):\n",
    "    if v == 0:\n",
    "        ratings[i] = 'Sell'\n",
    "    elif v == 1:\n",
    "        ratings[i] = 'Hold'\n",
    "    elif v == 2:\n",
    "        ratings[i] = 'Buy'\n",
    "    else:\n",
    "        ratings[i] = 'No Ratings'"
   ]
  },
  {
   "cell_type": "code",
   "execution_count": 19,
   "metadata": {},
   "outputs": [],
   "source": [
    "model_predictions = []\n",
    "for i in range(len(financials_a)):\n",
    "    model_predictions.append([financials_a.iloc[i,0], ratings.values[i], predicted_ratings[i]])"
   ]
  },
  {
   "cell_type": "code",
   "execution_count": 25,
   "metadata": {},
   "outputs": [],
   "source": [
    "## Connect to SQL database\n",
    "conn = psycopg2.connect(database = 'cuzegotk',user = 'cuzegotk',password = 'NekW2BqJ8hW1wO3hCdpuEESPiP-y131V',host = 'raja.db.elephantsql.com')\n",
    "cur = conn.cursor()\n",
    "## Transfer CSV to SQL Database\n",
    "for i in range(0,len(model_predictions)):\n",
    "    cur.execute('INSERT INTO modelpredictions VALUES (%s, %s, %s)', tuple(model_predictions[i]))\n",
    "    conn.commit()\n",
    "cur.close()\n",
    "conn.close()"
   ]
  },
  {
   "cell_type": "code",
   "execution_count": null,
   "metadata": {},
   "outputs": [],
   "source": []
  }
 ],
 "metadata": {
  "kernelspec": {
   "display_name": "Python 3",
   "language": "python",
   "name": "python3"
  },
  "language_info": {
   "codemirror_mode": {
    "name": "ipython",
    "version": 3
   },
   "file_extension": ".py",
   "mimetype": "text/x-python",
   "name": "python",
   "nbconvert_exporter": "python",
   "pygments_lexer": "ipython3",
   "version": "3.7.3"
  }
 },
 "nbformat": 4,
 "nbformat_minor": 2
}
