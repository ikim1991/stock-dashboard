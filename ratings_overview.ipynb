{
 "cells": [
  {
   "cell_type": "code",
   "execution_count": 1,
   "metadata": {},
   "outputs": [],
   "source": [
    "import pandas as pd\n",
    "import numpy as np\n",
    "import requests\n",
    "import bs4\n",
    "from bs4 import BeautifulSoup"
   ]
  },
  {
   "cell_type": "code",
   "execution_count": 2,
   "metadata": {},
   "outputs": [],
   "source": [
    "tickers = pd.read_csv('./datasets/companylisting.csv', usecols=['ticker']).values"
   ]
  },
  {
   "cell_type": "code",
   "execution_count": 3,
   "metadata": {},
   "outputs": [],
   "source": [
    "## Get Ratings from Market Watch\n",
    "ratings = []\n",
    "for i in tickers:\n",
    "    r = requests.get('https://www.marketwatch.com/investing/stock/{}/analystestimates'.format(i[0].replace('-','.')))\n",
    "    soup = bs4.BeautifulSoup(r.text, \"html.parser\")\n",
    "    current = soup.findAll('td', {'class': 'current'})\n",
    "    try:\n",
    "        ratings.append([i[0], int(current[0].text), int(current[1].text), int(current[2].text), int(current[3].text), int(current[4].text), current[5].text])\n",
    "    except:\n",
    "        ratings.append([i[0], np.nan, np.nan, np.nan, np.nan, np.nan, np.nan])"
   ]
  },
  {
   "cell_type": "code",
   "execution_count": 14,
   "metadata": {},
   "outputs": [],
   "source": [
    "## Import new dataframe into a SQL database\n",
    "import psycopg2\n",
    "## Connect to SQL database\n",
    "conn = psycopg2.connect(database = 'cuzegotk',user = 'cuzegotk',password = 'NekW2BqJ8hW1wO3hCdpuEESPiP-y131V',host = 'raja.db.elephantsql.com')\n",
    "cur = conn.cursor()\n",
    "## Transfer CSV to SQL Database\n",
    "for i in range(0,len(ratings)):\n",
    "    cur.execute('INSERT INTO analystratings VALUES (%s, %s, %s, %s, %s, %s, %s)', tuple(ratings[i]))\n",
    "    conn.commit()\n",
    "cur.close()\n",
    "conn.close()"
   ]
  },
  {
   "cell_type": "code",
   "execution_count": null,
   "metadata": {},
   "outputs": [],
   "source": []
  }
 ],
 "metadata": {
  "kernelspec": {
   "display_name": "Python 3",
   "language": "python",
   "name": "python3"
  },
  "language_info": {
   "codemirror_mode": {
    "name": "ipython",
    "version": 3
   },
   "file_extension": ".py",
   "mimetype": "text/x-python",
   "name": "python",
   "nbconvert_exporter": "python",
   "pygments_lexer": "ipython3",
   "version": "3.7.3"
  }
 },
 "nbformat": 4,
 "nbformat_minor": 2
}
