{
 "cells": [
  {
   "cell_type": "code",
   "execution_count": 1,
   "metadata": {},
   "outputs": [],
   "source": [
    "import pandas as pd\n",
    "import numpy as np\n",
    "import psycopg2\n",
    "import pickle\n",
    "import math"
   ]
  },
  {
   "cell_type": "code",
   "execution_count": 2,
   "metadata": {},
   "outputs": [],
   "source": [
    "## Connect to SQL database\n",
    "conn = psycopg2.connect(database = 'cuzegotk',user = 'cuzegotk',password = 'NekW2BqJ8hW1wO3hCdpuEESPiP-y131V',host = 'raja.db.elephantsql.com')\n",
    "cur = conn.cursor()\n",
    "## Get Joined table of the company financials, and ratings\n",
    "cur.execute('SELECT companyfinancials.ticker, revenue, revenue_ly, rating FROM companyfinancials JOIN companyratings ON companyfinancials.ticker = companyratings.ticker')\n",
    "financials_a = cur.fetchall()\n",
    "cur.close()\n",
    "conn.close()"
   ]
  },
  {
   "cell_type": "code",
   "execution_count": 3,
   "metadata": {},
   "outputs": [],
   "source": [
    "## Connect to SQL database\n",
    "conn = psycopg2.connect(database = 'cuzegotk',user = 'cuzegotk',password = 'NekW2BqJ8hW1wO3hCdpuEESPiP-y131V',host = 'raja.db.elephantsql.com')\n",
    "cur = conn.cursor()\n",
    "## Get Joined table of the company balance sheets, quarter-ends, and shares_outstanding\n",
    "cur.execute('SELECT Q.ticker, sector, shares_outstanding, total_assets, total_liabilities, intangible_assets, shareholders_equity, total_equity,revenue,gross_profit,operating_profit, net_income FROM companybalancesheets B JOIN companyquarterends Q ON Q.ticker = B.ticker JOIN sharesoutstanding S ON S.ticker = B.ticker JOIN companylisting L ON L.ticker = S.ticker')\n",
    "financials_q = cur.fetchall()\n",
    "cur.close()\n",
    "conn.close()"
   ]
  },
  {
   "cell_type": "code",
   "execution_count": 4,
   "metadata": {},
   "outputs": [],
   "source": [
    "maximum = pd.read_csv('./datasets/featurescalingmax.csv', usecols=[1])\n",
    "maximum.index = ['industrials', 'consumer_discretionary', 'tech', 'health_care', 'energy', 'consumer_staples', 'utilities', 'real_estate', 'materials', 'communication_services', 'eps', 'bvs', 'roe', 'roa', 'debt-to-equity', 'debt-to-asset', 'gross-margin', 'operating-margin', 'net-margin', 'yoy-revenue-growth']\n",
    "minimum = pd.read_csv('./datasets/featurescalingmin.csv', usecols=[1])\n",
    "minimum.index = ['industrials', 'consumer_discretionary', 'tech', 'health_care', 'energy', 'consumer_staples', 'utilities', 'real_estate', 'materials', 'communication_services', 'eps', 'bvs', 'roe', 'roa', 'debt-to-equity', 'debt-to-asset', 'gross-margin', 'operating-margin', 'net-margin', 'yoy-revenue-growth']"
   ]
  },
  {
   "cell_type": "code",
   "execution_count": 5,
   "metadata": {},
   "outputs": [],
   "source": [
    "maximum = maximum.iloc[:,0].values\n",
    "minimum = minimum.iloc[:,0].values"
   ]
  },
  {
   "cell_type": "code",
   "execution_count": 6,
   "metadata": {},
   "outputs": [],
   "source": [
    "# Define columns annual financials\n",
    "a_columns = ['ticker', 'revenue', 'revenue_ly', 'rating']\n",
    "# Define columns of quarter financials\n",
    "q_columns = ['ticker', 'sector', 'shares_outstanding', 'total_assets', 'total_liabilities', 'intangible_assets', 'shareholders_equity', 'total_equity', 'revenue', 'gross_profit', 'operating_profit', 'net_income']"
   ]
  },
  {
   "cell_type": "code",
   "execution_count": 7,
   "metadata": {},
   "outputs": [],
   "source": [
    "financials_a = pd.DataFrame(financials_a, columns=a_columns)\n",
    "financials_q = pd.DataFrame(financials_q, columns=q_columns)"
   ]
  },
  {
   "cell_type": "code",
   "execution_count": 8,
   "metadata": {},
   "outputs": [
    {
     "data": {
      "text/html": [
       "<div>\n",
       "<style scoped>\n",
       "    .dataframe tbody tr th:only-of-type {\n",
       "        vertical-align: middle;\n",
       "    }\n",
       "\n",
       "    .dataframe tbody tr th {\n",
       "        vertical-align: top;\n",
       "    }\n",
       "\n",
       "    .dataframe thead th {\n",
       "        text-align: right;\n",
       "    }\n",
       "</style>\n",
       "<table border=\"1\" class=\"dataframe\">\n",
       "  <thead>\n",
       "    <tr style=\"text-align: right;\">\n",
       "      <th></th>\n",
       "      <th>ticker</th>\n",
       "      <th>revenue</th>\n",
       "      <th>revenue_ly</th>\n",
       "      <th>rating</th>\n",
       "    </tr>\n",
       "  </thead>\n",
       "  <tbody>\n",
       "    <tr>\n",
       "      <th>85</th>\n",
       "      <td>BCRH</td>\n",
       "      <td>3.540000e+07</td>\n",
       "      <td>4.940000e+07</td>\n",
       "      <td>No Ratings</td>\n",
       "    </tr>\n",
       "    <tr>\n",
       "      <th>111</th>\n",
       "      <td>BXEFF</td>\n",
       "      <td>2.049230e+08</td>\n",
       "      <td>2.254380e+08</td>\n",
       "      <td>No Ratings</td>\n",
       "    </tr>\n",
       "    <tr>\n",
       "      <th>205</th>\n",
       "      <td>DIIBF</td>\n",
       "      <td>2.619513e+09</td>\n",
       "      <td>2.577668e+09</td>\n",
       "      <td>No Ratings</td>\n",
       "    </tr>\n",
       "    <tr>\n",
       "      <th>474</th>\n",
       "      <td>NM</td>\n",
       "      <td>5.177390e+08</td>\n",
       "      <td>4.630490e+08</td>\n",
       "      <td>No Ratings</td>\n",
       "    </tr>\n",
       "    <tr>\n",
       "      <th>555</th>\n",
       "      <td>RIBT</td>\n",
       "      <td>1.476200e+07</td>\n",
       "      <td>1.335500e+07</td>\n",
       "      <td>No Ratings</td>\n",
       "    </tr>\n",
       "    <tr>\n",
       "      <th>642</th>\n",
       "      <td>TOO</td>\n",
       "      <td>1.416424e+09</td>\n",
       "      <td>1.110284e+09</td>\n",
       "      <td>No Ratings</td>\n",
       "    </tr>\n",
       "    <tr>\n",
       "      <th>673</th>\n",
       "      <td>UTI</td>\n",
       "      <td>3.169650e+08</td>\n",
       "      <td>3.242630e+08</td>\n",
       "      <td>No Ratings</td>\n",
       "    </tr>\n",
       "    <tr>\n",
       "      <th>720</th>\n",
       "      <td>XRF</td>\n",
       "      <td>9.277700e+07</td>\n",
       "      <td>5.698300e+07</td>\n",
       "      <td>No Ratings</td>\n",
       "    </tr>\n",
       "  </tbody>\n",
       "</table>\n",
       "</div>"
      ],
      "text/plain": [
       "    ticker       revenue    revenue_ly      rating\n",
       "85    BCRH  3.540000e+07  4.940000e+07  No Ratings\n",
       "111  BXEFF  2.049230e+08  2.254380e+08  No Ratings\n",
       "205  DIIBF  2.619513e+09  2.577668e+09  No Ratings\n",
       "474     NM  5.177390e+08  4.630490e+08  No Ratings\n",
       "555   RIBT  1.476200e+07  1.335500e+07  No Ratings\n",
       "642    TOO  1.416424e+09  1.110284e+09  No Ratings\n",
       "673    UTI  3.169650e+08  3.242630e+08  No Ratings\n",
       "720    XRF  9.277700e+07  5.698300e+07  No Ratings"
      ]
     },
     "execution_count": 8,
     "metadata": {},
     "output_type": "execute_result"
    }
   ],
   "source": [
    "# Check Missing values\n",
    "financials_a[financials_a['rating']=='No Ratings']"
   ]
  },
  {
   "cell_type": "code",
   "execution_count": 9,
   "metadata": {},
   "outputs": [],
   "source": [
    "# Manually research data and filling in data\n",
    "financials_a.iloc[85, 3] = 'Strong Sell'\n",
    "financials_a.iloc[111, 3] = 'Moderate Sell'\n",
    "financials_a.iloc[205, 3] = 'Moderate Buy'\n",
    "financials_a.iloc[474, 3] = 'Strong Sell'\n",
    "financials_a.iloc[555, 3] = 'Strong Buy'\n",
    "financials_a.iloc[642, 3] = 'Hold'\n",
    "financials_a.iloc[673, 3] = 'Strong Sell'\n",
    "financials_a.iloc[720, 3] = 'Hold'"
   ]
  },
  {
   "cell_type": "code",
   "execution_count": 10,
   "metadata": {},
   "outputs": [],
   "source": [
    "ratings = financials_a['rating']\n",
    "financials_a = financials_a.iloc[:,:-1]"
   ]
  },
  {
   "cell_type": "code",
   "execution_count": 11,
   "metadata": {},
   "outputs": [
    {
     "data": {
      "text/plain": [
       "Moderate Buy     341\n",
       "Hold             185\n",
       "Strong Buy       102\n",
       "Moderate Sell     73\n",
       "Strong Sell       27\n",
       "Name: rating, dtype: int64"
      ]
     },
     "execution_count": 11,
     "metadata": {},
     "output_type": "execute_result"
    }
   ],
   "source": [
    "ratings.value_counts()"
   ]
  },
  {
   "cell_type": "code",
   "execution_count": 12,
   "metadata": {},
   "outputs": [],
   "source": [
    "encode_ratings = {\n",
    "    'Strong Sell': 0,\n",
    "    'Moderate Sell': 0,\n",
    "    'Hold': 1,\n",
    "    'Moderate Buy': 2,\n",
    "    'Strong Buy': 2\n",
    "}"
   ]
  },
  {
   "cell_type": "code",
   "execution_count": 13,
   "metadata": {},
   "outputs": [],
   "source": [
    "ratings = ratings.map(encode_ratings)"
   ]
  },
  {
   "cell_type": "code",
   "execution_count": 14,
   "metadata": {},
   "outputs": [
    {
     "data": {
      "text/html": [
       "<div>\n",
       "<style scoped>\n",
       "    .dataframe tbody tr th:only-of-type {\n",
       "        vertical-align: middle;\n",
       "    }\n",
       "\n",
       "    .dataframe tbody tr th {\n",
       "        vertical-align: top;\n",
       "    }\n",
       "\n",
       "    .dataframe thead th {\n",
       "        text-align: right;\n",
       "    }\n",
       "</style>\n",
       "<table border=\"1\" class=\"dataframe\">\n",
       "  <thead>\n",
       "    <tr style=\"text-align: right;\">\n",
       "      <th></th>\n",
       "      <th>ticker</th>\n",
       "      <th>sector</th>\n",
       "      <th>shares_outstanding</th>\n",
       "      <th>total_assets</th>\n",
       "      <th>total_liabilities</th>\n",
       "      <th>intangible_assets</th>\n",
       "      <th>shareholders_equity</th>\n",
       "      <th>total_equity</th>\n",
       "      <th>revenue</th>\n",
       "      <th>gross_profit</th>\n",
       "      <th>operating_profit</th>\n",
       "      <th>net_income</th>\n",
       "    </tr>\n",
       "  </thead>\n",
       "  <tbody>\n",
       "    <tr>\n",
       "      <th>250</th>\n",
       "      <td>EVRZF</td>\n",
       "      <td>nan</td>\n",
       "      <td>451340000.0</td>\n",
       "      <td>9.480932e+09</td>\n",
       "      <td>7.270352e+09</td>\n",
       "      <td>1.049878e+09</td>\n",
       "      <td>1.964960e+09</td>\n",
       "      <td>2.210580e+09</td>\n",
       "      <td>NaN</td>\n",
       "      <td>NaN</td>\n",
       "      <td>NaN</td>\n",
       "      <td>NaN</td>\n",
       "    </tr>\n",
       "    <tr>\n",
       "      <th>429</th>\n",
       "      <td>MDOMF</td>\n",
       "      <td>nan</td>\n",
       "      <td>46790000.0</td>\n",
       "      <td>9.001381e+08</td>\n",
       "      <td>1.988873e+08</td>\n",
       "      <td>8.297885e+07</td>\n",
       "      <td>6.447466e+08</td>\n",
       "      <td>7.012508e+08</td>\n",
       "      <td>6.062000e+09</td>\n",
       "      <td>2.469000e+09</td>\n",
       "      <td>1.025000e+09</td>\n",
       "      <td>0.0</td>\n",
       "    </tr>\n",
       "  </tbody>\n",
       "</table>\n",
       "</div>"
      ],
      "text/plain": [
       "    ticker sector  shares_outstanding  total_assets  total_liabilities  \\\n",
       "250  EVRZF    nan         451340000.0  9.480932e+09       7.270352e+09   \n",
       "429  MDOMF    nan          46790000.0  9.001381e+08       1.988873e+08   \n",
       "\n",
       "     intangible_assets  shareholders_equity  total_equity       revenue  \\\n",
       "250       1.049878e+09         1.964960e+09  2.210580e+09           NaN   \n",
       "429       8.297885e+07         6.447466e+08  7.012508e+08  6.062000e+09   \n",
       "\n",
       "     gross_profit  operating_profit  net_income  \n",
       "250           NaN               NaN         NaN  \n",
       "429  2.469000e+09      1.025000e+09         0.0  "
      ]
     },
     "execution_count": 14,
     "metadata": {},
     "output_type": "execute_result"
    }
   ],
   "source": [
    "financials_q[financials_q['sector'] == 'nan']"
   ]
  },
  {
   "cell_type": "code",
   "execution_count": 15,
   "metadata": {},
   "outputs": [],
   "source": [
    "financials_q.iloc[250,1] = 'Materials'\n",
    "financials_q.iloc[429,1] = 'Consumer Discretionary'"
   ]
  },
  {
   "cell_type": "code",
   "execution_count": 16,
   "metadata": {},
   "outputs": [],
   "source": [
    "## Encoding categorical date using Pandas get_dummies\n",
    "X1 = pd.get_dummies(financials_q['sector']).values"
   ]
  },
  {
   "cell_type": "code",
   "execution_count": 17,
   "metadata": {},
   "outputs": [],
   "source": [
    "## Feature for measuring a company's earnings and its margin of safety, EPS and Book Value per share\n",
    "X2 = (financials_q.net_income / financials_q.shares_outstanding).values.reshape(len(X1), 1)\n",
    "X3 = ((financials_q.total_assets - financials_q.total_liabilities - financials_q.intangible_assets) / financials_q.shares_outstanding).values.reshape(len(X1), 1)"
   ]
  },
  {
   "cell_type": "code",
   "execution_count": 18,
   "metadata": {},
   "outputs": [],
   "source": [
    "## Measure of company's profitability, Return on Equity and Return on Assets\n",
    "X4 = (financials_q.net_income / financials_q.shareholders_equity).values.reshape(len(X1), 1)\n",
    "X5 = (financials_q.net_income / financials_q.shareholders_equity).values.reshape(len(X1), 1)"
   ]
  },
  {
   "cell_type": "code",
   "execution_count": 19,
   "metadata": {},
   "outputs": [],
   "source": [
    "## Measure of company's financial leverage and liquidity, Debt-to-Equity ratio and Debt-to-Asset ratio\n",
    "X6 = (financials_q.total_liabilities / financials_q.shareholders_equity).values.reshape(len(X1), 1)\n",
    "X7 = (financials_q.total_liabilities / financials_q.total_assets).values.reshape(len(X1), 1)"
   ]
  },
  {
   "cell_type": "code",
   "execution_count": 20,
   "metadata": {},
   "outputs": [],
   "source": [
    "## Measure of company's margins, gross, operating, and net\n",
    "X8 = (financials_q.gross_profit / financials_q.revenue).values.reshape(len(X1), 1)\n",
    "X9 = (financials_q.operating_profit / financials_q.revenue).values.reshape(len(X1), 1)\n",
    "X10 = (financials_q.net_income / financials_q.revenue).values.reshape(len(X1), 1)"
   ]
  },
  {
   "cell_type": "code",
   "execution_count": 21,
   "metadata": {},
   "outputs": [],
   "source": [
    "## Measure of year-over-year growth in sales\n",
    "X11 = ((financials_a.revenue - financials_a.revenue_ly) / financials_a.revenue_ly).values.reshape(len(X1), 1)"
   ]
  },
  {
   "cell_type": "code",
   "execution_count": 22,
   "metadata": {},
   "outputs": [],
   "source": [
    "## Set of features we will use for our machine learning algorithm\n",
    "features = np.concatenate((X1[:,1:], X2, X3, X4, X5, X6, X7, X8, X9, X10, X11), axis = 1)"
   ]
  },
  {
   "cell_type": "code",
   "execution_count": 23,
   "metadata": {},
   "outputs": [],
   "source": [
    "df = pd.DataFrame(features)"
   ]
  },
  {
   "cell_type": "code",
   "execution_count": 24,
   "metadata": {},
   "outputs": [],
   "source": [
    "feature_scaling = (features - minimum) / (maximum - minimum)"
   ]
  },
  {
   "cell_type": "code",
   "execution_count": 25,
   "metadata": {},
   "outputs": [],
   "source": [
    "filename = 'model.pkl'\n",
    "model = pickle.load(open(filename, 'rb'))"
   ]
  },
  {
   "cell_type": "code",
   "execution_count": 26,
   "metadata": {},
   "outputs": [],
   "source": [
    "predicted_ratings = []\n",
    "for i in range(len(feature_scaling)):\n",
    "    try:\n",
    "        predicted_ratings.append(int(model.predict(feature_scaling[i,:].reshape(1,-1))[0]))\n",
    "    except:\n",
    "        predicted_ratings.append(np.nan)"
   ]
  },
  {
   "cell_type": "code",
   "execution_count": 27,
   "metadata": {},
   "outputs": [],
   "source": [
    "for i,v in enumerate(predicted_ratings):\n",
    "    if v == 0:\n",
    "        predicted_ratings[i] = 'Sell'\n",
    "    elif v == 1:\n",
    "        predicted_ratings[i] = 'Hold'\n",
    "    elif v ==2:\n",
    "        predicted_ratings[i] = 'Buy'\n",
    "    else:\n",
    "        predicted_ratings[i] = 'No Ratings'\n",
    "        \n",
    "for i,v in enumerate(ratings):\n",
    "    if v == 0:\n",
    "        ratings[i] = 'Sell'\n",
    "    elif v == 1:\n",
    "        ratings[i] = 'Hold'\n",
    "    elif v == 2:\n",
    "        ratings[i] = 'Buy'\n",
    "    else:\n",
    "        ratings[i] = 'No Ratings'"
   ]
  },
  {
   "cell_type": "code",
   "execution_count": 28,
   "metadata": {},
   "outputs": [],
   "source": [
    "model_predictions = []\n",
    "for i in range(len(financials_a)):\n",
    "    model_predictions.append([financials_a.iloc[i,0], ratings.values[i], predicted_ratings[i]])"
   ]
  },
  {
   "cell_type": "code",
   "execution_count": 29,
   "metadata": {},
   "outputs": [],
   "source": [
    "## Connect to SQL database\n",
    "conn = psycopg2.connect(database = 'cuzegotk',user = 'cuzegotk',password = 'NekW2BqJ8hW1wO3hCdpuEESPiP-y131V',host = 'raja.db.elephantsql.com')\n",
    "cur = conn.cursor()\n",
    "## Transfer CSV to SQL Database\n",
    "for i in range(0,len(model_predictions)):\n",
    "    cur.execute('INSERT INTO modelpredictions VALUES (%s, %s, %s)', tuple(model_predictions[i]))\n",
    "    conn.commit()\n",
    "cur.close()\n",
    "conn.close()"
   ]
  },
  {
   "cell_type": "code",
   "execution_count": null,
   "metadata": {},
   "outputs": [],
   "source": []
  }
 ],
 "metadata": {
  "kernelspec": {
   "display_name": "Python 3",
   "language": "python",
   "name": "python3"
  },
  "language_info": {
   "codemirror_mode": {
    "name": "ipython",
    "version": 3
   },
   "file_extension": ".py",
   "mimetype": "text/x-python",
   "name": "python",
   "nbconvert_exporter": "python",
   "pygments_lexer": "ipython3",
   "version": "3.7.3"
  }
 },
 "nbformat": 4,
 "nbformat_minor": 2
}
