{
 "cells": [
  {
   "cell_type": "code",
   "execution_count": 1,
   "metadata": {},
   "outputs": [],
   "source": [
    "## Import Libraries for data extraction\n",
    "import numpy as np\n",
    "import pandas as pd\n",
    "import requests\n",
    "import bs4\n",
    "from bs4 import BeautifulSoup"
   ]
  },
  {
   "cell_type": "code",
   "execution_count": 2,
   "metadata": {},
   "outputs": [],
   "source": [
    "## Load sp500 company listing and old dataset\n",
    "sp500 = pd.read_csv('./datasets/s&p500companies.csv', usecols=['ticker', 'company', 'sector'])\n",
    "old = pd.read_csv('./datasets/old_database.csv')"
   ]
  },
  {
   "cell_type": "code",
   "execution_count": 3,
   "metadata": {},
   "outputs": [],
   "source": [
    "## Web Scrape Company Names based on the tickers of the old database\n",
    "ticker = []\n",
    "company = []\n",
    "for i in old['Ticker']:\n",
    "    try:\n",
    "        r = requests.get('https://ca.finance.yahoo.com/quote/{}/profile?p={}'.format(i, i))\n",
    "        soup = bs4.BeautifulSoup(r.text, \"html.parser\")\n",
    "        company.append(soup.findAll('h3', {'class':'Fz(m) Mb(10px)'})[0].text)\n",
    "        ticker.append(i)\n",
    "    except:\n",
    "        continue"
   ]
  },
  {
   "cell_type": "code",
   "execution_count": 4,
   "metadata": {},
   "outputs": [],
   "source": [
    "## Create dataframe with the company name, ticker, and sector from the old dataset\n",
    "sector = []\n",
    "for i in ticker:\n",
    "    sector.append(old[old['Ticker'] == i]['sector'])\n",
    "company = np.array(company)\n",
    "ticker = np.array(ticker)\n",
    "x = []\n",
    "for i in range(len(sector)):\n",
    "    x.append([ticker[i], company[i], sector[i].values.tolist().pop()])\n",
    "## Convert into NumPy Array\n",
    "y = np.array(x)\n",
    "## Convert into a Pandas DataFrame\n",
    "df = pd.DataFrame(y, columns = sp500.columns)"
   ]
  },
  {
   "cell_type": "code",
   "execution_count": 5,
   "metadata": {},
   "outputs": [],
   "source": [
    "## Concat new s&p500 company listing with the old database\n",
    "df = pd.concat([sp500, df])\n",
    "## Drop any duplicates in the ticker column and sort values by ticker column\n",
    "df.drop_duplicates('ticker', inplace=True)\n",
    "df.sort_values('ticker', inplace=True)"
   ]
  },
  {
   "cell_type": "code",
   "execution_count": 6,
   "metadata": {},
   "outputs": [],
   "source": [
    "## Export dataframe into a csv file\n",
    "df.to_csv('./datasets/companylisting.csv')"
   ]
  },
  {
   "cell_type": "code",
   "execution_count": 12,
   "metadata": {},
   "outputs": [],
   "source": [
    "## Import new dataframe into a SQL database\n",
    "import psycopg2\n",
    "## Connect to SQL database\n",
    "conn = psycopg2.connect(database = 'cuzegotk',user = 'cuzegotk',password = 'NekW2BqJ8hW1wO3hCdpuEESPiP-y131V',host = 'raja.db.elephantsql.com')\n",
    "cur = conn.cursor()\n",
    "## Transfer CSV to SQL Database\n",
    "for i in range(0,len(df)):\n",
    "    cur.execute('INSERT INTO companylisting VALUES (%s, %s, %s)', tuple(df.iloc[i,:].values))\n",
    "    conn.commit()\n",
    "cur.close()\n",
    "conn.close()"
   ]
  },
  {
   "cell_type": "code",
   "execution_count": null,
   "metadata": {},
   "outputs": [],
   "source": []
  }
 ],
 "metadata": {
  "kernelspec": {
   "display_name": "Python 3",
   "language": "python",
   "name": "python3"
  },
  "language_info": {
   "codemirror_mode": {
    "name": "ipython",
    "version": 3
   },
   "file_extension": ".py",
   "mimetype": "text/x-python",
   "name": "python",
   "nbconvert_exporter": "python",
   "pygments_lexer": "ipython3",
   "version": "3.7.3"
  }
 },
 "nbformat": 4,
 "nbformat_minor": 2
}
