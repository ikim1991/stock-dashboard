{
 "cells": [
  {
   "cell_type": "code",
   "execution_count": 1,
   "metadata": {},
   "outputs": [],
   "source": [
    "import pandas as pd\n",
    "import numpy as np\n",
    "import matplotlib.pyplot as plt\n",
    "import seaborn as sns\n",
    "import psycopg2"
   ]
  },
  {
   "cell_type": "code",
   "execution_count": 2,
   "metadata": {},
   "outputs": [],
   "source": [
    "## Connect to SQL database\n",
    "conn = psycopg2.connect(database = 'cuzegotk',user = 'cuzegotk',password = 'NekW2BqJ8hW1wO3hCdpuEESPiP-y131V',host = 'raja.db.elephantsql.com')\n",
    "cur = conn.cursor()\n",
    "## Get Joined table of the company financials, and ratings\n",
    "cur.execute('SELECT companyfinancials.ticker, year, last_year, revenue, revenue_ly, cogs, cogs_ly, gross_profit, gross_profit_ly, operating_expense, operating_expense_ly, operating_profit, operating_profit_ly, net_profit, net_profit_ly, rating FROM companyfinancials JOIN companyratings ON companyfinancials.ticker = companyratings.ticker')\n",
    "financials_a = cur.fetchall()\n",
    "cur.close()\n",
    "conn.close()"
   ]
  },
  {
   "cell_type": "code",
   "execution_count": 3,
   "metadata": {},
   "outputs": [],
   "source": [
    "## Connect to SQL database\n",
    "conn = psycopg2.connect(database = 'cuzegotk',user = 'cuzegotk',password = 'NekW2BqJ8hW1wO3hCdpuEESPiP-y131V',host = 'raja.db.elephantsql.com')\n",
    "cur = conn.cursor()\n",
    "## Get Joined table of the company balance sheets, quarter-ends, and shares_outstanding\n",
    "cur.execute('SELECT Q.ticker, L.sector, B.quarter_end, shares_outstanding, total_assets,total_liabilities,intangible_assets,shareholders_equity,total_equity,revenue,gross_profit,operating_profit,net_income FROM companybalancesheets B JOIN companyquarterends Q ON Q.ticker = B.ticker JOIN sharesoutstanding S ON S.ticker = B.ticker JOIN companylisting L ON L.ticker = S.ticker')\n",
    "financials_q = cur.fetchall()\n",
    "cur.close()\n",
    "conn.close()"
   ]
  },
  {
   "cell_type": "code",
   "execution_count": 4,
   "metadata": {},
   "outputs": [],
   "source": [
    "# Define columns annual financials\n",
    "a_columns = ['ticker', 'year', 'last_year', 'revenue', 'revenue_ly', 'cogs', 'cogs_ly', 'gross_profit', 'gross_profit_ly', 'operating_expense', 'operating_expense_ly', 'operating_profit', 'operating_profit_ly', 'net_profit', 'net_profit_ly', 'rating']"
   ]
  },
  {
   "cell_type": "code",
   "execution_count": 5,
   "metadata": {},
   "outputs": [],
   "source": [
    "# Define columns of quarter financials\n",
    "q_columns = ['ticker', 'sector', 'quarter_end', 'shares_outstanding', 'total_assets', 'total_liabilities', 'intangible_assets', 'shareholders_equity', 'total_equity', 'revenue', 'gross_profit', 'operating_profit', 'net_income']"
   ]
  },
  {
   "cell_type": "code",
   "execution_count": 6,
   "metadata": {},
   "outputs": [],
   "source": [
    "financials_a = pd.DataFrame(financials_a, columns=a_columns)\n",
    "financials_q = pd.DataFrame(financials_q, columns=q_columns)\n",
    "Y = financials_a.rating.values.reshape(len(financials_a), 1)"
   ]
  },
  {
   "cell_type": "code",
   "execution_count": 7,
   "metadata": {},
   "outputs": [
    {
     "data": {
      "text/html": [
       "<div>\n",
       "<style scoped>\n",
       "    .dataframe tbody tr th:only-of-type {\n",
       "        vertical-align: middle;\n",
       "    }\n",
       "\n",
       "    .dataframe tbody tr th {\n",
       "        vertical-align: top;\n",
       "    }\n",
       "\n",
       "    .dataframe thead th {\n",
       "        text-align: right;\n",
       "    }\n",
       "</style>\n",
       "<table border=\"1\" class=\"dataframe\">\n",
       "  <thead>\n",
       "    <tr style=\"text-align: right;\">\n",
       "      <th></th>\n",
       "      <th>ticker</th>\n",
       "      <th>year</th>\n",
       "      <th>last_year</th>\n",
       "      <th>revenue</th>\n",
       "      <th>revenue_ly</th>\n",
       "      <th>cogs</th>\n",
       "      <th>cogs_ly</th>\n",
       "      <th>gross_profit</th>\n",
       "      <th>gross_profit_ly</th>\n",
       "      <th>operating_expense</th>\n",
       "      <th>operating_expense_ly</th>\n",
       "      <th>operating_profit</th>\n",
       "      <th>operating_profit_ly</th>\n",
       "      <th>net_profit</th>\n",
       "      <th>net_profit_ly</th>\n",
       "      <th>rating</th>\n",
       "    </tr>\n",
       "  </thead>\n",
       "  <tbody>\n",
       "    <tr>\n",
       "      <th>0</th>\n",
       "      <td>A</td>\n",
       "      <td>2018-10-31</td>\n",
       "      <td>2017-10-31</td>\n",
       "      <td>4.914000e+09</td>\n",
       "      <td>4.472000e+09</td>\n",
       "      <td>2.227000e+09</td>\n",
       "      <td>2.063000e+09</td>\n",
       "      <td>2.687000e+09</td>\n",
       "      <td>2.409000e+09</td>\n",
       "      <td>3.940000e+09</td>\n",
       "      <td>3.589000e+09</td>\n",
       "      <td>9.740000e+08</td>\n",
       "      <td>8.830000e+08</td>\n",
       "      <td>3.160000e+08</td>\n",
       "      <td>6.840000e+08</td>\n",
       "      <td>Strong Buy</td>\n",
       "    </tr>\n",
       "    <tr>\n",
       "      <th>1</th>\n",
       "      <td>AAL</td>\n",
       "      <td>2018-12-31</td>\n",
       "      <td>2017-12-31</td>\n",
       "      <td>4.454100e+10</td>\n",
       "      <td>4.262200e+10</td>\n",
       "      <td>3.233700e+10</td>\n",
       "      <td>2.943000e+10</td>\n",
       "      <td>1.220400e+10</td>\n",
       "      <td>1.319200e+10</td>\n",
       "      <td>4.078400e+10</td>\n",
       "      <td>3.751900e+10</td>\n",
       "      <td>3.757000e+09</td>\n",
       "      <td>5.103000e+09</td>\n",
       "      <td>1.412000e+09</td>\n",
       "      <td>1.282000e+09</td>\n",
       "      <td>Moderate Buy</td>\n",
       "    </tr>\n",
       "    <tr>\n",
       "      <th>2</th>\n",
       "      <td>AAON</td>\n",
       "      <td>2018-12-31</td>\n",
       "      <td>2017-12-31</td>\n",
       "      <td>4.339470e+08</td>\n",
       "      <td>4.052320e+08</td>\n",
       "      <td>3.304140e+08</td>\n",
       "      <td>2.818350e+08</td>\n",
       "      <td>1.035330e+08</td>\n",
       "      <td>1.233970e+08</td>\n",
       "      <td>3.772360e+08</td>\n",
       "      <td>3.303600e+08</td>\n",
       "      <td>5.671100e+07</td>\n",
       "      <td>7.487200e+07</td>\n",
       "      <td>4.257200e+07</td>\n",
       "      <td>5.449800e+07</td>\n",
       "      <td>Strong Sell</td>\n",
       "    </tr>\n",
       "    <tr>\n",
       "      <th>3</th>\n",
       "      <td>AAP</td>\n",
       "      <td>2018-12-29</td>\n",
       "      <td>2017-12-30</td>\n",
       "      <td>9.580554e+09</td>\n",
       "      <td>9.373784e+09</td>\n",
       "      <td>5.354401e+09</td>\n",
       "      <td>5.288735e+09</td>\n",
       "      <td>4.226153e+09</td>\n",
       "      <td>4.085049e+09</td>\n",
       "      <td>8.868412e+09</td>\n",
       "      <td>8.720540e+09</td>\n",
       "      <td>7.121420e+08</td>\n",
       "      <td>6.532440e+08</td>\n",
       "      <td>4.238470e+08</td>\n",
       "      <td>4.755050e+08</td>\n",
       "      <td>Moderate Buy</td>\n",
       "    </tr>\n",
       "    <tr>\n",
       "      <th>4</th>\n",
       "      <td>AAPL</td>\n",
       "      <td>2018-09-29</td>\n",
       "      <td>2017-09-30</td>\n",
       "      <td>2.655950e+11</td>\n",
       "      <td>2.292340e+11</td>\n",
       "      <td>1.637560e+11</td>\n",
       "      <td>1.410480e+11</td>\n",
       "      <td>1.018390e+11</td>\n",
       "      <td>8.818600e+10</td>\n",
       "      <td>1.946970e+11</td>\n",
       "      <td>1.678900e+11</td>\n",
       "      <td>7.089800e+10</td>\n",
       "      <td>6.134400e+10</td>\n",
       "      <td>5.953100e+10</td>\n",
       "      <td>4.835100e+10</td>\n",
       "      <td>Moderate Buy</td>\n",
       "    </tr>\n",
       "  </tbody>\n",
       "</table>\n",
       "</div>"
      ],
      "text/plain": [
       "  ticker        year   last_year       revenue    revenue_ly          cogs  \\\n",
       "0      A  2018-10-31  2017-10-31  4.914000e+09  4.472000e+09  2.227000e+09   \n",
       "1    AAL  2018-12-31  2017-12-31  4.454100e+10  4.262200e+10  3.233700e+10   \n",
       "2   AAON  2018-12-31  2017-12-31  4.339470e+08  4.052320e+08  3.304140e+08   \n",
       "3    AAP  2018-12-29  2017-12-30  9.580554e+09  9.373784e+09  5.354401e+09   \n",
       "4   AAPL  2018-09-29  2017-09-30  2.655950e+11  2.292340e+11  1.637560e+11   \n",
       "\n",
       "        cogs_ly  gross_profit  gross_profit_ly  operating_expense  \\\n",
       "0  2.063000e+09  2.687000e+09     2.409000e+09       3.940000e+09   \n",
       "1  2.943000e+10  1.220400e+10     1.319200e+10       4.078400e+10   \n",
       "2  2.818350e+08  1.035330e+08     1.233970e+08       3.772360e+08   \n",
       "3  5.288735e+09  4.226153e+09     4.085049e+09       8.868412e+09   \n",
       "4  1.410480e+11  1.018390e+11     8.818600e+10       1.946970e+11   \n",
       "\n",
       "   operating_expense_ly  operating_profit  operating_profit_ly    net_profit  \\\n",
       "0          3.589000e+09      9.740000e+08         8.830000e+08  3.160000e+08   \n",
       "1          3.751900e+10      3.757000e+09         5.103000e+09  1.412000e+09   \n",
       "2          3.303600e+08      5.671100e+07         7.487200e+07  4.257200e+07   \n",
       "3          8.720540e+09      7.121420e+08         6.532440e+08  4.238470e+08   \n",
       "4          1.678900e+11      7.089800e+10         6.134400e+10  5.953100e+10   \n",
       "\n",
       "   net_profit_ly        rating  \n",
       "0   6.840000e+08    Strong Buy  \n",
       "1   1.282000e+09  Moderate Buy  \n",
       "2   5.449800e+07   Strong Sell  \n",
       "3   4.755050e+08  Moderate Buy  \n",
       "4   4.835100e+10  Moderate Buy  "
      ]
     },
     "execution_count": 7,
     "metadata": {},
     "output_type": "execute_result"
    }
   ],
   "source": [
    "financials_a.head()"
   ]
  },
  {
   "cell_type": "code",
   "execution_count": 8,
   "metadata": {},
   "outputs": [
    {
     "data": {
      "text/html": [
       "<div>\n",
       "<style scoped>\n",
       "    .dataframe tbody tr th:only-of-type {\n",
       "        vertical-align: middle;\n",
       "    }\n",
       "\n",
       "    .dataframe tbody tr th {\n",
       "        vertical-align: top;\n",
       "    }\n",
       "\n",
       "    .dataframe thead th {\n",
       "        text-align: right;\n",
       "    }\n",
       "</style>\n",
       "<table border=\"1\" class=\"dataframe\">\n",
       "  <thead>\n",
       "    <tr style=\"text-align: right;\">\n",
       "      <th></th>\n",
       "      <th>ticker</th>\n",
       "      <th>sector</th>\n",
       "      <th>quarter_end</th>\n",
       "      <th>shares_outstanding</th>\n",
       "      <th>total_assets</th>\n",
       "      <th>total_liabilities</th>\n",
       "      <th>intangible_assets</th>\n",
       "      <th>shareholders_equity</th>\n",
       "      <th>total_equity</th>\n",
       "      <th>revenue</th>\n",
       "      <th>gross_profit</th>\n",
       "      <th>operating_profit</th>\n",
       "      <th>net_income</th>\n",
       "    </tr>\n",
       "  </thead>\n",
       "  <tbody>\n",
       "    <tr>\n",
       "      <th>0</th>\n",
       "      <td>A</td>\n",
       "      <td>Health Care</td>\n",
       "      <td>31-Jul-2019</td>\n",
       "      <td>3.159900e+08</td>\n",
       "      <td>8.630000e+09</td>\n",
       "      <td>3.880000e+09</td>\n",
       "      <td>3.620000e+09</td>\n",
       "      <td>4.750000e+09</td>\n",
       "      <td>4.750000e+09</td>\n",
       "      <td>1.274000e+09</td>\n",
       "      <td>6.920000e+08</td>\n",
       "      <td>2.250000e+08</td>\n",
       "      <td>1.910000e+08</td>\n",
       "    </tr>\n",
       "    <tr>\n",
       "      <th>1</th>\n",
       "      <td>AAL</td>\n",
       "      <td>Industrials</td>\n",
       "      <td>30-Jun-2019</td>\n",
       "      <td>4.452700e+08</td>\n",
       "      <td>6.197000e+10</td>\n",
       "      <td>6.199000e+10</td>\n",
       "      <td>6.200000e+09</td>\n",
       "      <td>-1.690000e+08</td>\n",
       "      <td>-1.690000e+08</td>\n",
       "      <td>1.196000e+10</td>\n",
       "      <td>3.435000e+09</td>\n",
       "      <td>1.153000e+09</td>\n",
       "      <td>6.620000e+08</td>\n",
       "    </tr>\n",
       "    <tr>\n",
       "      <th>2</th>\n",
       "      <td>AAON</td>\n",
       "      <td>Materials</td>\n",
       "      <td>30-Jun-2019</td>\n",
       "      <td>5.212000e+07</td>\n",
       "      <td>3.422500e+08</td>\n",
       "      <td>7.768000e+07</td>\n",
       "      <td>3.620000e+06</td>\n",
       "      <td>2.645700e+08</td>\n",
       "      <td>2.645700e+08</td>\n",
       "      <td>1.194370e+08</td>\n",
       "      <td>3.017500e+07</td>\n",
       "      <td>1.668800e+07</td>\n",
       "      <td>1.296100e+07</td>\n",
       "    </tr>\n",
       "    <tr>\n",
       "      <th>3</th>\n",
       "      <td>AAP</td>\n",
       "      <td>Consumer Discretionary</td>\n",
       "      <td>31-Jul-2019</td>\n",
       "      <td>7.174000e+07</td>\n",
       "      <td>1.127000e+10</td>\n",
       "      <td>7.600000e+09</td>\n",
       "      <td>1.510000e+09</td>\n",
       "      <td>3.670000e+09</td>\n",
       "      <td>3.670000e+09</td>\n",
       "      <td>2.332246e+09</td>\n",
       "      <td>1.009438e+09</td>\n",
       "      <td>1.707720e+08</td>\n",
       "      <td>1.248200e+08</td>\n",
       "    </tr>\n",
       "    <tr>\n",
       "      <th>4</th>\n",
       "      <td>AAPL</td>\n",
       "      <td>Information Technology</td>\n",
       "      <td>30-Jun-2019</td>\n",
       "      <td>4.600000e+09</td>\n",
       "      <td>3.222400e+11</td>\n",
       "      <td>2.257800e+11</td>\n",
       "      <td>0.000000e+00</td>\n",
       "      <td>9.646000e+10</td>\n",
       "      <td>9.646000e+10</td>\n",
       "      <td>5.380900e+10</td>\n",
       "      <td>2.022700e+10</td>\n",
       "      <td>1.154400e+10</td>\n",
       "      <td>1.004400e+10</td>\n",
       "    </tr>\n",
       "  </tbody>\n",
       "</table>\n",
       "</div>"
      ],
      "text/plain": [
       "  ticker                  sector  quarter_end  shares_outstanding  \\\n",
       "0      A             Health Care  31-Jul-2019        3.159900e+08   \n",
       "1    AAL             Industrials  30-Jun-2019        4.452700e+08   \n",
       "2   AAON               Materials  30-Jun-2019        5.212000e+07   \n",
       "3    AAP  Consumer Discretionary  31-Jul-2019        7.174000e+07   \n",
       "4   AAPL  Information Technology  30-Jun-2019        4.600000e+09   \n",
       "\n",
       "   total_assets  total_liabilities  intangible_assets  shareholders_equity  \\\n",
       "0  8.630000e+09       3.880000e+09       3.620000e+09         4.750000e+09   \n",
       "1  6.197000e+10       6.199000e+10       6.200000e+09        -1.690000e+08   \n",
       "2  3.422500e+08       7.768000e+07       3.620000e+06         2.645700e+08   \n",
       "3  1.127000e+10       7.600000e+09       1.510000e+09         3.670000e+09   \n",
       "4  3.222400e+11       2.257800e+11       0.000000e+00         9.646000e+10   \n",
       "\n",
       "   total_equity       revenue  gross_profit  operating_profit    net_income  \n",
       "0  4.750000e+09  1.274000e+09  6.920000e+08      2.250000e+08  1.910000e+08  \n",
       "1 -1.690000e+08  1.196000e+10  3.435000e+09      1.153000e+09  6.620000e+08  \n",
       "2  2.645700e+08  1.194370e+08  3.017500e+07      1.668800e+07  1.296100e+07  \n",
       "3  3.670000e+09  2.332246e+09  1.009438e+09      1.707720e+08  1.248200e+08  \n",
       "4  9.646000e+10  5.380900e+10  2.022700e+10      1.154400e+10  1.004400e+10  "
      ]
     },
     "execution_count": 8,
     "metadata": {},
     "output_type": "execute_result"
    }
   ],
   "source": [
    "financials_q.head()"
   ]
  },
  {
   "cell_type": "markdown",
   "metadata": {},
   "source": [
    "###### Feature Selection"
   ]
  },
  {
   "cell_type": "code",
   "execution_count": 9,
   "metadata": {},
   "outputs": [
    {
     "data": {
      "text/plain": [
       "Financials                109\n",
       "Industrials                91\n",
       "Information Technology     90\n",
       "Consumer Discretionary     90\n",
       "Health Care                78\n",
       "Energy                     51\n",
       "Consumer Staples           47\n",
       "Utilities                  45\n",
       "Real Estate                44\n",
       "Materials                  42\n",
       "Communication Services     39\n",
       "nan                         2\n",
       "Name: sector, dtype: int64"
      ]
     },
     "execution_count": 9,
     "metadata": {},
     "output_type": "execute_result"
    }
   ],
   "source": [
    "## Categorical Feature for the sector that the company is listed under\n",
    "financials_q.sector.value_counts()"
   ]
  },
  {
   "cell_type": "code",
   "execution_count": 10,
   "metadata": {},
   "outputs": [
    {
     "data": {
      "text/html": [
       "<div>\n",
       "<style scoped>\n",
       "    .dataframe tbody tr th:only-of-type {\n",
       "        vertical-align: middle;\n",
       "    }\n",
       "\n",
       "    .dataframe tbody tr th {\n",
       "        vertical-align: top;\n",
       "    }\n",
       "\n",
       "    .dataframe thead th {\n",
       "        text-align: right;\n",
       "    }\n",
       "</style>\n",
       "<table border=\"1\" class=\"dataframe\">\n",
       "  <thead>\n",
       "    <tr style=\"text-align: right;\">\n",
       "      <th></th>\n",
       "      <th>ticker</th>\n",
       "      <th>sector</th>\n",
       "      <th>quarter_end</th>\n",
       "      <th>shares_outstanding</th>\n",
       "      <th>total_assets</th>\n",
       "      <th>total_liabilities</th>\n",
       "      <th>intangible_assets</th>\n",
       "      <th>shareholders_equity</th>\n",
       "      <th>total_equity</th>\n",
       "      <th>revenue</th>\n",
       "      <th>gross_profit</th>\n",
       "      <th>operating_profit</th>\n",
       "      <th>net_income</th>\n",
       "    </tr>\n",
       "  </thead>\n",
       "  <tbody>\n",
       "    <tr>\n",
       "      <th>250</th>\n",
       "      <td>EVRZF</td>\n",
       "      <td>nan</td>\n",
       "      <td>30-Jun-2019</td>\n",
       "      <td>451340000.0</td>\n",
       "      <td>9.480932e+09</td>\n",
       "      <td>7.270352e+09</td>\n",
       "      <td>1.049878e+09</td>\n",
       "      <td>1.964960e+09</td>\n",
       "      <td>2.210580e+09</td>\n",
       "      <td>NaN</td>\n",
       "      <td>NaN</td>\n",
       "      <td>NaN</td>\n",
       "      <td>NaN</td>\n",
       "    </tr>\n",
       "    <tr>\n",
       "      <th>429</th>\n",
       "      <td>MDOMF</td>\n",
       "      <td>nan</td>\n",
       "      <td>30-Jun-2019</td>\n",
       "      <td>46790000.0</td>\n",
       "      <td>9.001381e+08</td>\n",
       "      <td>1.988873e+08</td>\n",
       "      <td>8.297885e+07</td>\n",
       "      <td>6.447466e+08</td>\n",
       "      <td>7.012508e+08</td>\n",
       "      <td>6.062000e+09</td>\n",
       "      <td>2.469000e+09</td>\n",
       "      <td>1.025000e+09</td>\n",
       "      <td>0.0</td>\n",
       "    </tr>\n",
       "  </tbody>\n",
       "</table>\n",
       "</div>"
      ],
      "text/plain": [
       "    ticker sector  quarter_end  shares_outstanding  total_assets  \\\n",
       "250  EVRZF    nan  30-Jun-2019         451340000.0  9.480932e+09   \n",
       "429  MDOMF    nan  30-Jun-2019          46790000.0  9.001381e+08   \n",
       "\n",
       "     total_liabilities  intangible_assets  shareholders_equity  total_equity  \\\n",
       "250       7.270352e+09       1.049878e+09         1.964960e+09  2.210580e+09   \n",
       "429       1.988873e+08       8.297885e+07         6.447466e+08  7.012508e+08   \n",
       "\n",
       "          revenue  gross_profit  operating_profit  net_income  \n",
       "250           NaN           NaN               NaN         NaN  \n",
       "429  6.062000e+09  2.469000e+09      1.025000e+09         0.0  "
      ]
     },
     "execution_count": 10,
     "metadata": {},
     "output_type": "execute_result"
    }
   ],
   "source": [
    "financials_q[financials_q.sector == 'nan']"
   ]
  },
  {
   "cell_type": "code",
   "execution_count": 11,
   "metadata": {},
   "outputs": [],
   "source": [
    "financials_q.iloc[250,1] = 'Materials'\n",
    "financials_q.iloc[429,1] = 'Consumer Discretionary'"
   ]
  },
  {
   "cell_type": "code",
   "execution_count": 12,
   "metadata": {},
   "outputs": [
    {
     "data": {
      "text/plain": [
       "Financials                109\n",
       "Industrials                91\n",
       "Consumer Discretionary     91\n",
       "Information Technology     90\n",
       "Health Care                78\n",
       "Energy                     51\n",
       "Consumer Staples           47\n",
       "Utilities                  45\n",
       "Real Estate                44\n",
       "Materials                  43\n",
       "Communication Services     39\n",
       "Name: sector, dtype: int64"
      ]
     },
     "execution_count": 12,
     "metadata": {},
     "output_type": "execute_result"
    }
   ],
   "source": [
    "financials_q.sector.value_counts()"
   ]
  },
  {
   "cell_type": "code",
   "execution_count": 13,
   "metadata": {},
   "outputs": [],
   "source": [
    "## Encoding categorical date using Pandas get_dummies\n",
    "X1 = pd.get_dummies(financials_q['sector']).values"
   ]
  },
  {
   "cell_type": "code",
   "execution_count": 14,
   "metadata": {},
   "outputs": [],
   "source": [
    "## Feature for measuring a company's earnings and its margin of safety, EPS and Book Value per share\n",
    "X2 = (financials_q.net_income / financials_q.shares_outstanding).values.reshape(len(X1), 1)\n",
    "X3 = ((financials_q.total_assets - financials_q.total_liabilities - financials_q.intangible_assets) / financials_q.shares_outstanding).values.reshape(len(X1), 1)"
   ]
  },
  {
   "cell_type": "code",
   "execution_count": 15,
   "metadata": {},
   "outputs": [],
   "source": [
    "## Measure of company's profitability, Return on Equity and Return on Assets\n",
    "X4 = (financials_q.net_income / financials_q.shareholders_equity).values.reshape(len(X1), 1)\n",
    "X5 = (financials_q.net_income / financials_q.shareholders_equity).values.reshape(len(X1), 1)"
   ]
  },
  {
   "cell_type": "code",
   "execution_count": 16,
   "metadata": {},
   "outputs": [],
   "source": [
    "## Measure of company's financial leverage and liquidity, Debt-to-Equity ratio and Debt-to-Asset ratio\n",
    "X6 = (financials_q.total_liabilities / financials_q.shareholders_equity).values.reshape(len(X1), 1)\n",
    "X7 = (financials_q.total_liabilities / financials_q.total_assets).values.reshape(len(X1), 1)"
   ]
  },
  {
   "cell_type": "code",
   "execution_count": 17,
   "metadata": {},
   "outputs": [],
   "source": [
    "## Measure of company's margins, gross, operating, and net\n",
    "X8 = (financials_q.gross_profit / financials_q.revenue).values.reshape(len(X1), 1)\n",
    "X9 = (financials_q.operating_profit / financials_q.revenue).values.reshape(len(X1), 1)\n",
    "X10 = (financials_q.net_income / financials_q.revenue).values.reshape(len(X1), 1)"
   ]
  },
  {
   "cell_type": "code",
   "execution_count": 18,
   "metadata": {},
   "outputs": [],
   "source": [
    "## Measure of year-over-year growth in sales\n",
    "X11 = ((financials_a.revenue - financials_a.revenue_ly) / financials_a.revenue_ly).values.reshape(len(X1), 1)"
   ]
  },
  {
   "cell_type": "code",
   "execution_count": 19,
   "metadata": {},
   "outputs": [],
   "source": [
    "## Set of features we will use for our machine learning algorithm\n",
    "features = np.concatenate((X1[:,1:], X2, X3, X4, X5, X6, X7, X8, X9, X10, X11), axis = 1)"
   ]
  },
  {
   "cell_type": "markdown",
   "metadata": {},
   "source": [
    "###### Testing Features"
   ]
  },
  {
   "cell_type": "code",
   "execution_count": 20,
   "metadata": {},
   "outputs": [
    {
     "name": "stdout",
     "output_type": "stream",
     "text": [
      "<class 'pandas.core.frame.DataFrame'>\n",
      "Int64Index: 618 entries, 0 to 727\n",
      "Data columns (total 21 columns):\n",
      "0     618 non-null object\n",
      "1     618 non-null object\n",
      "2     618 non-null object\n",
      "3     618 non-null object\n",
      "4     618 non-null object\n",
      "5     618 non-null object\n",
      "6     618 non-null object\n",
      "7     618 non-null object\n",
      "8     618 non-null object\n",
      "9     618 non-null object\n",
      "10    618 non-null object\n",
      "11    618 non-null object\n",
      "12    618 non-null object\n",
      "13    618 non-null object\n",
      "14    618 non-null object\n",
      "15    618 non-null object\n",
      "16    618 non-null object\n",
      "17    618 non-null object\n",
      "18    618 non-null object\n",
      "19    618 non-null object\n",
      "20    618 non-null object\n",
      "dtypes: object(21)\n",
      "memory usage: 106.2+ KB\n"
     ]
    }
   ],
   "source": [
    "## Loading and dropping NaNs\n",
    "df = pd.DataFrame(np.concatenate((features, Y), axis = 1))\n",
    "df.dropna(inplace=True)\n",
    "df.info()"
   ]
  },
  {
   "cell_type": "code",
   "execution_count": 21,
   "metadata": {},
   "outputs": [
    {
     "data": {
      "text/plain": [
       "Moderate Buy     301\n",
       "Hold             156\n",
       "Strong Buy        91\n",
       "Moderate Sell     46\n",
       "Strong Sell       17\n",
       "No Ratings         7\n",
       "Name: 20, dtype: int64"
      ]
     },
     "execution_count": 21,
     "metadata": {},
     "output_type": "execute_result"
    }
   ],
   "source": [
    "df.iloc[:,20].value_counts()"
   ]
  },
  {
   "cell_type": "code",
   "execution_count": 22,
   "metadata": {},
   "outputs": [
    {
     "data": {
      "text/plain": [
       "Moderate Buy     301\n",
       "Hold             156\n",
       "Strong Buy        91\n",
       "Moderate Sell     46\n",
       "Strong Sell       17\n",
       "Name: 20, dtype: int64"
      ]
     },
     "execution_count": 22,
     "metadata": {},
     "output_type": "execute_result"
    }
   ],
   "source": [
    "## Dropping any rows where there are no ratings for the stock\n",
    "df = df[df.iloc[:,20] != 'No Ratings']\n",
    "df.iloc[:,20].value_counts()"
   ]
  },
  {
   "cell_type": "code",
   "execution_count": 23,
   "metadata": {},
   "outputs": [
    {
     "data": {
      "text/html": [
       "<div>\n",
       "<style scoped>\n",
       "    .dataframe tbody tr th:only-of-type {\n",
       "        vertical-align: middle;\n",
       "    }\n",
       "\n",
       "    .dataframe tbody tr th {\n",
       "        vertical-align: top;\n",
       "    }\n",
       "\n",
       "    .dataframe thead th {\n",
       "        text-align: right;\n",
       "    }\n",
       "</style>\n",
       "<table border=\"1\" class=\"dataframe\">\n",
       "  <thead>\n",
       "    <tr style=\"text-align: right;\">\n",
       "      <th></th>\n",
       "      <th>0</th>\n",
       "      <th>1</th>\n",
       "      <th>2</th>\n",
       "      <th>3</th>\n",
       "      <th>4</th>\n",
       "      <th>5</th>\n",
       "      <th>6</th>\n",
       "      <th>7</th>\n",
       "      <th>8</th>\n",
       "      <th>9</th>\n",
       "      <th>...</th>\n",
       "      <th>11</th>\n",
       "      <th>12</th>\n",
       "      <th>13</th>\n",
       "      <th>14</th>\n",
       "      <th>15</th>\n",
       "      <th>16</th>\n",
       "      <th>17</th>\n",
       "      <th>18</th>\n",
       "      <th>19</th>\n",
       "      <th>20</th>\n",
       "    </tr>\n",
       "  </thead>\n",
       "  <tbody>\n",
       "    <tr>\n",
       "      <th>0</th>\n",
       "      <td>0</td>\n",
       "      <td>0</td>\n",
       "      <td>0</td>\n",
       "      <td>0</td>\n",
       "      <td>1</td>\n",
       "      <td>0</td>\n",
       "      <td>0</td>\n",
       "      <td>0</td>\n",
       "      <td>0</td>\n",
       "      <td>0</td>\n",
       "      <td>...</td>\n",
       "      <td>3.57606</td>\n",
       "      <td>0.0402105</td>\n",
       "      <td>0.0402105</td>\n",
       "      <td>0.816842</td>\n",
       "      <td>0.449594</td>\n",
       "      <td>0.543171</td>\n",
       "      <td>0.176609</td>\n",
       "      <td>0.149922</td>\n",
       "      <td>0.0988372</td>\n",
       "      <td>Strong Buy</td>\n",
       "    </tr>\n",
       "    <tr>\n",
       "      <th>1</th>\n",
       "      <td>0</td>\n",
       "      <td>0</td>\n",
       "      <td>0</td>\n",
       "      <td>0</td>\n",
       "      <td>0</td>\n",
       "      <td>1</td>\n",
       "      <td>0</td>\n",
       "      <td>0</td>\n",
       "      <td>0</td>\n",
       "      <td>0</td>\n",
       "      <td>...</td>\n",
       "      <td>-13.9691</td>\n",
       "      <td>-3.91716</td>\n",
       "      <td>-3.91716</td>\n",
       "      <td>-366.805</td>\n",
       "      <td>1.00032</td>\n",
       "      <td>0.287207</td>\n",
       "      <td>0.0964047</td>\n",
       "      <td>0.0553512</td>\n",
       "      <td>0.0450237</td>\n",
       "      <td>Moderate Buy</td>\n",
       "    </tr>\n",
       "    <tr>\n",
       "      <th>2</th>\n",
       "      <td>0</td>\n",
       "      <td>0</td>\n",
       "      <td>0</td>\n",
       "      <td>0</td>\n",
       "      <td>0</td>\n",
       "      <td>0</td>\n",
       "      <td>0</td>\n",
       "      <td>1</td>\n",
       "      <td>0</td>\n",
       "      <td>0</td>\n",
       "      <td>...</td>\n",
       "      <td>5.00672</td>\n",
       "      <td>0.0489889</td>\n",
       "      <td>0.0489889</td>\n",
       "      <td>0.293608</td>\n",
       "      <td>0.226969</td>\n",
       "      <td>0.252644</td>\n",
       "      <td>0.139722</td>\n",
       "      <td>0.108517</td>\n",
       "      <td>0.0708606</td>\n",
       "      <td>Strong Sell</td>\n",
       "    </tr>\n",
       "    <tr>\n",
       "      <th>3</th>\n",
       "      <td>1</td>\n",
       "      <td>0</td>\n",
       "      <td>0</td>\n",
       "      <td>0</td>\n",
       "      <td>0</td>\n",
       "      <td>0</td>\n",
       "      <td>0</td>\n",
       "      <td>0</td>\n",
       "      <td>0</td>\n",
       "      <td>0</td>\n",
       "      <td>...</td>\n",
       "      <td>30.1087</td>\n",
       "      <td>0.0340109</td>\n",
       "      <td>0.0340109</td>\n",
       "      <td>2.07084</td>\n",
       "      <td>0.674357</td>\n",
       "      <td>0.432818</td>\n",
       "      <td>0.0732221</td>\n",
       "      <td>0.0535192</td>\n",
       "      <td>0.0220583</td>\n",
       "      <td>Moderate Buy</td>\n",
       "    </tr>\n",
       "    <tr>\n",
       "      <th>4</th>\n",
       "      <td>0</td>\n",
       "      <td>0</td>\n",
       "      <td>0</td>\n",
       "      <td>0</td>\n",
       "      <td>0</td>\n",
       "      <td>0</td>\n",
       "      <td>1</td>\n",
       "      <td>0</td>\n",
       "      <td>0</td>\n",
       "      <td>0</td>\n",
       "      <td>...</td>\n",
       "      <td>20.9696</td>\n",
       "      <td>0.104126</td>\n",
       "      <td>0.104126</td>\n",
       "      <td>2.34066</td>\n",
       "      <td>0.700658</td>\n",
       "      <td>0.375904</td>\n",
       "      <td>0.214537</td>\n",
       "      <td>0.18666</td>\n",
       "      <td>0.15862</td>\n",
       "      <td>Moderate Buy</td>\n",
       "    </tr>\n",
       "  </tbody>\n",
       "</table>\n",
       "<p>5 rows × 21 columns</p>\n",
       "</div>"
      ],
      "text/plain": [
       "  0  1  2  3  4  5  6  7  8  9   ...       11         12         13        14  \\\n",
       "0  0  0  0  0  1  0  0  0  0  0  ...  3.57606  0.0402105  0.0402105  0.816842   \n",
       "1  0  0  0  0  0  1  0  0  0  0  ... -13.9691   -3.91716   -3.91716  -366.805   \n",
       "2  0  0  0  0  0  0  0  1  0  0  ...  5.00672  0.0489889  0.0489889  0.293608   \n",
       "3  1  0  0  0  0  0  0  0  0  0  ...  30.1087  0.0340109  0.0340109   2.07084   \n",
       "4  0  0  0  0  0  0  1  0  0  0  ...  20.9696   0.104126   0.104126   2.34066   \n",
       "\n",
       "         15        16         17         18         19            20  \n",
       "0  0.449594  0.543171   0.176609   0.149922  0.0988372    Strong Buy  \n",
       "1   1.00032  0.287207  0.0964047  0.0553512  0.0450237  Moderate Buy  \n",
       "2  0.226969  0.252644   0.139722   0.108517  0.0708606   Strong Sell  \n",
       "3  0.674357  0.432818  0.0732221  0.0535192  0.0220583  Moderate Buy  \n",
       "4  0.700658  0.375904   0.214537    0.18666    0.15862  Moderate Buy  \n",
       "\n",
       "[5 rows x 21 columns]"
      ]
     },
     "execution_count": 23,
     "metadata": {},
     "output_type": "execute_result"
    }
   ],
   "source": [
    "df.head()"
   ]
  },
  {
   "cell_type": "code",
   "execution_count": 24,
   "metadata": {},
   "outputs": [],
   "source": [
    "## Standardizing data types of columns\n",
    "for i in range(0,10):\n",
    "    df.iloc[:,i] = pd.to_numeric(df.iloc[:,i], downcast='integer')\n",
    "for i in range(10,20):\n",
    "    df.iloc[:,i] = pd.to_numeric(df.iloc[:,i], downcast='float')"
   ]
  },
  {
   "cell_type": "code",
   "execution_count": 25,
   "metadata": {},
   "outputs": [
    {
     "name": "stdout",
     "output_type": "stream",
     "text": [
      "<class 'pandas.core.frame.DataFrame'>\n",
      "Int64Index: 611 entries, 0 to 727\n",
      "Data columns (total 21 columns):\n",
      "0     611 non-null int8\n",
      "1     611 non-null int8\n",
      "2     611 non-null int8\n",
      "3     611 non-null int8\n",
      "4     611 non-null int8\n",
      "5     611 non-null int8\n",
      "6     611 non-null int8\n",
      "7     611 non-null int8\n",
      "8     611 non-null int8\n",
      "9     611 non-null int8\n",
      "10    611 non-null float32\n",
      "11    611 non-null float32\n",
      "12    611 non-null float32\n",
      "13    611 non-null float32\n",
      "14    611 non-null float32\n",
      "15    611 non-null float32\n",
      "16    611 non-null float32\n",
      "17    611 non-null float32\n",
      "18    611 non-null float32\n",
      "19    611 non-null float32\n",
      "20    611 non-null object\n",
      "dtypes: float32(10), int8(10), object(1)\n",
      "memory usage: 39.4+ KB\n"
     ]
    }
   ],
   "source": [
    "df.info()"
   ]
  },
  {
   "cell_type": "code",
   "execution_count": 26,
   "metadata": {},
   "outputs": [
    {
     "data": {
      "text/html": [
       "<div>\n",
       "<style scoped>\n",
       "    .dataframe tbody tr th:only-of-type {\n",
       "        vertical-align: middle;\n",
       "    }\n",
       "\n",
       "    .dataframe tbody tr th {\n",
       "        vertical-align: top;\n",
       "    }\n",
       "\n",
       "    .dataframe thead th {\n",
       "        text-align: right;\n",
       "    }\n",
       "</style>\n",
       "<table border=\"1\" class=\"dataframe\">\n",
       "  <thead>\n",
       "    <tr style=\"text-align: right;\">\n",
       "      <th></th>\n",
       "      <th>10</th>\n",
       "      <th>11</th>\n",
       "      <th>12</th>\n",
       "      <th>13</th>\n",
       "      <th>14</th>\n",
       "      <th>15</th>\n",
       "      <th>16</th>\n",
       "      <th>17</th>\n",
       "      <th>18</th>\n",
       "      <th>19</th>\n",
       "    </tr>\n",
       "  </thead>\n",
       "  <tbody>\n",
       "    <tr>\n",
       "      <th>count</th>\n",
       "      <td>611.000000</td>\n",
       "      <td>611.000000</td>\n",
       "      <td>611.000000</td>\n",
       "      <td>611.000000</td>\n",
       "      <td>611.000000</td>\n",
       "      <td>611.000000</td>\n",
       "      <td>611.000000</td>\n",
       "      <td>611.000000</td>\n",
       "      <td>611.000000</td>\n",
       "      <td>611.000000</td>\n",
       "    </tr>\n",
       "    <tr>\n",
       "      <th>mean</th>\n",
       "      <td>32.923634</td>\n",
       "      <td>628.744324</td>\n",
       "      <td>-0.054732</td>\n",
       "      <td>-0.054732</td>\n",
       "      <td>0.887461</td>\n",
       "      <td>0.659672</td>\n",
       "      <td>1.730729</td>\n",
       "      <td>0.013661</td>\n",
       "      <td>0.001912</td>\n",
       "      <td>0.118943</td>\n",
       "    </tr>\n",
       "    <tr>\n",
       "      <th>std</th>\n",
       "      <td>787.423218</td>\n",
       "      <td>15301.194336</td>\n",
       "      <td>0.930550</td>\n",
       "      <td>0.930550</td>\n",
       "      <td>32.045357</td>\n",
       "      <td>0.330933</td>\n",
       "      <td>10.886591</td>\n",
       "      <td>2.899677</td>\n",
       "      <td>2.976008</td>\n",
       "      <td>0.335913</td>\n",
       "    </tr>\n",
       "    <tr>\n",
       "      <th>min</th>\n",
       "      <td>-53.727905</td>\n",
       "      <td>-239.375702</td>\n",
       "      <td>-13.218297</td>\n",
       "      <td>-13.218297</td>\n",
       "      <td>-505.333344</td>\n",
       "      <td>0.135058</td>\n",
       "      <td>-0.525598</td>\n",
       "      <td>-71.019867</td>\n",
       "      <td>-67.112579</td>\n",
       "      <td>-1.317722</td>\n",
       "    </tr>\n",
       "    <tr>\n",
       "      <th>25%</th>\n",
       "      <td>0.302162</td>\n",
       "      <td>-6.717942</td>\n",
       "      <td>0.013345</td>\n",
       "      <td>0.013345</td>\n",
       "      <td>0.929599</td>\n",
       "      <td>0.500502</td>\n",
       "      <td>0.265080</td>\n",
       "      <td>0.071477</td>\n",
       "      <td>0.044229</td>\n",
       "      <td>0.024871</td>\n",
       "    </tr>\n",
       "    <tr>\n",
       "      <th>50%</th>\n",
       "      <td>0.833832</td>\n",
       "      <td>5.408112</td>\n",
       "      <td>0.035146</td>\n",
       "      <td>0.035146</td>\n",
       "      <td>1.652918</td>\n",
       "      <td>0.645134</td>\n",
       "      <td>0.431412</td>\n",
       "      <td>0.144751</td>\n",
       "      <td>0.096562</td>\n",
       "      <td>0.071459</td>\n",
       "    </tr>\n",
       "    <tr>\n",
       "      <th>75%</th>\n",
       "      <td>1.525318</td>\n",
       "      <td>20.515936</td>\n",
       "      <td>0.069429</td>\n",
       "      <td>0.069429</td>\n",
       "      <td>2.865321</td>\n",
       "      <td>0.770366</td>\n",
       "      <td>0.674732</td>\n",
       "      <td>0.230001</td>\n",
       "      <td>0.171747</td>\n",
       "      <td>0.135027</td>\n",
       "    </tr>\n",
       "    <tr>\n",
       "      <th>max</th>\n",
       "      <td>19464.730469</td>\n",
       "      <td>378229.593750</td>\n",
       "      <td>2.444574</td>\n",
       "      <td>2.444574</td>\n",
       "      <td>387.020660</td>\n",
       "      <td>4.611532</td>\n",
       "      <td>201.035721</td>\n",
       "      <td>1.073856</td>\n",
       "      <td>24.530964</td>\n",
       "      <td>5.422786</td>\n",
       "    </tr>\n",
       "  </tbody>\n",
       "</table>\n",
       "</div>"
      ],
      "text/plain": [
       "                 10             11          12          13          14  \\\n",
       "count    611.000000     611.000000  611.000000  611.000000  611.000000   \n",
       "mean      32.923634     628.744324   -0.054732   -0.054732    0.887461   \n",
       "std      787.423218   15301.194336    0.930550    0.930550   32.045357   \n",
       "min      -53.727905    -239.375702  -13.218297  -13.218297 -505.333344   \n",
       "25%        0.302162      -6.717942    0.013345    0.013345    0.929599   \n",
       "50%        0.833832       5.408112    0.035146    0.035146    1.652918   \n",
       "75%        1.525318      20.515936    0.069429    0.069429    2.865321   \n",
       "max    19464.730469  378229.593750    2.444574    2.444574  387.020660   \n",
       "\n",
       "               15          16          17          18          19  \n",
       "count  611.000000  611.000000  611.000000  611.000000  611.000000  \n",
       "mean     0.659672    1.730729    0.013661    0.001912    0.118943  \n",
       "std      0.330933   10.886591    2.899677    2.976008    0.335913  \n",
       "min      0.135058   -0.525598  -71.019867  -67.112579   -1.317722  \n",
       "25%      0.500502    0.265080    0.071477    0.044229    0.024871  \n",
       "50%      0.645134    0.431412    0.144751    0.096562    0.071459  \n",
       "75%      0.770366    0.674732    0.230001    0.171747    0.135027  \n",
       "max      4.611532  201.035721    1.073856   24.530964    5.422786  "
      ]
     },
     "execution_count": 26,
     "metadata": {},
     "output_type": "execute_result"
    }
   ],
   "source": [
    "df.iloc[:,10:].describe()"
   ]
  },
  {
   "cell_type": "code",
   "execution_count": 27,
   "metadata": {},
   "outputs": [
    {
     "data": {
      "text/html": [
       "<div>\n",
       "<style scoped>\n",
       "    .dataframe tbody tr th:only-of-type {\n",
       "        vertical-align: middle;\n",
       "    }\n",
       "\n",
       "    .dataframe tbody tr th {\n",
       "        vertical-align: top;\n",
       "    }\n",
       "\n",
       "    .dataframe thead th {\n",
       "        text-align: right;\n",
       "    }\n",
       "</style>\n",
       "<table border=\"1\" class=\"dataframe\">\n",
       "  <thead>\n",
       "    <tr style=\"text-align: right;\">\n",
       "      <th></th>\n",
       "      <th>10</th>\n",
       "      <th>11</th>\n",
       "      <th>12</th>\n",
       "      <th>13</th>\n",
       "      <th>14</th>\n",
       "      <th>15</th>\n",
       "      <th>16</th>\n",
       "      <th>17</th>\n",
       "      <th>18</th>\n",
       "      <th>19</th>\n",
       "    </tr>\n",
       "  </thead>\n",
       "  <tbody>\n",
       "    <tr>\n",
       "      <th>count</th>\n",
       "      <td>540.000000</td>\n",
       "      <td>540.000000</td>\n",
       "      <td>540.000000</td>\n",
       "      <td>540.000000</td>\n",
       "      <td>540.000000</td>\n",
       "      <td>540.000000</td>\n",
       "      <td>540.000000</td>\n",
       "      <td>540.000000</td>\n",
       "      <td>540.000000</td>\n",
       "      <td>540.000000</td>\n",
       "    </tr>\n",
       "    <tr>\n",
       "      <th>mean</th>\n",
       "      <td>37.064713</td>\n",
       "      <td>708.735840</td>\n",
       "      <td>-0.066539</td>\n",
       "      <td>-0.066539</td>\n",
       "      <td>0.644237</td>\n",
       "      <td>0.668100</td>\n",
       "      <td>0.412403</td>\n",
       "      <td>0.110183</td>\n",
       "      <td>0.049199</td>\n",
       "      <td>0.118332</td>\n",
       "    </tr>\n",
       "    <tr>\n",
       "      <th>std</th>\n",
       "      <td>837.592651</td>\n",
       "      <td>16276.114258</td>\n",
       "      <td>0.988469</td>\n",
       "      <td>0.988469</td>\n",
       "      <td>34.057671</td>\n",
       "      <td>0.342478</td>\n",
       "      <td>0.235988</td>\n",
       "      <td>0.339631</td>\n",
       "      <td>0.690461</td>\n",
       "      <td>0.321474</td>\n",
       "    </tr>\n",
       "    <tr>\n",
       "      <th>min</th>\n",
       "      <td>-53.727905</td>\n",
       "      <td>-239.375702</td>\n",
       "      <td>-13.218297</td>\n",
       "      <td>-13.218297</td>\n",
       "      <td>-505.333344</td>\n",
       "      <td>0.135058</td>\n",
       "      <td>-0.525598</td>\n",
       "      <td>-4.759597</td>\n",
       "      <td>-14.180303</td>\n",
       "      <td>-0.317986</td>\n",
       "    </tr>\n",
       "    <tr>\n",
       "      <th>25%</th>\n",
       "      <td>0.340326</td>\n",
       "      <td>-7.810016</td>\n",
       "      <td>0.015041</td>\n",
       "      <td>0.015041</td>\n",
       "      <td>0.940277</td>\n",
       "      <td>0.506679</td>\n",
       "      <td>0.234931</td>\n",
       "      <td>0.068902</td>\n",
       "      <td>0.043733</td>\n",
       "      <td>0.025284</td>\n",
       "    </tr>\n",
       "    <tr>\n",
       "      <th>50%</th>\n",
       "      <td>0.878621</td>\n",
       "      <td>4.339023</td>\n",
       "      <td>0.038105</td>\n",
       "      <td>0.038105</td>\n",
       "      <td>1.668972</td>\n",
       "      <td>0.650982</td>\n",
       "      <td>0.392575</td>\n",
       "      <td>0.134209</td>\n",
       "      <td>0.093567</td>\n",
       "      <td>0.072217</td>\n",
       "    </tr>\n",
       "    <tr>\n",
       "      <th>75%</th>\n",
       "      <td>1.617304</td>\n",
       "      <td>19.102365</td>\n",
       "      <td>0.069790</td>\n",
       "      <td>0.069790</td>\n",
       "      <td>2.792913</td>\n",
       "      <td>0.774746</td>\n",
       "      <td>0.577214</td>\n",
       "      <td>0.208137</td>\n",
       "      <td>0.160520</td>\n",
       "      <td>0.131267</td>\n",
       "    </tr>\n",
       "    <tr>\n",
       "      <th>max</th>\n",
       "      <td>19464.730469</td>\n",
       "      <td>378229.593750</td>\n",
       "      <td>2.444574</td>\n",
       "      <td>2.444574</td>\n",
       "      <td>387.020660</td>\n",
       "      <td>4.611532</td>\n",
       "      <td>0.978799</td>\n",
       "      <td>0.658505</td>\n",
       "      <td>0.660428</td>\n",
       "      <td>5.422786</td>\n",
       "    </tr>\n",
       "  </tbody>\n",
       "</table>\n",
       "</div>"
      ],
      "text/plain": [
       "                 10             11          12          13          14  \\\n",
       "count    540.000000     540.000000  540.000000  540.000000  540.000000   \n",
       "mean      37.064713     708.735840   -0.066539   -0.066539    0.644237   \n",
       "std      837.592651   16276.114258    0.988469    0.988469   34.057671   \n",
       "min      -53.727905    -239.375702  -13.218297  -13.218297 -505.333344   \n",
       "25%        0.340326      -7.810016    0.015041    0.015041    0.940277   \n",
       "50%        0.878621       4.339023    0.038105    0.038105    1.668972   \n",
       "75%        1.617304      19.102365    0.069790    0.069790    2.792913   \n",
       "max    19464.730469  378229.593750    2.444574    2.444574  387.020660   \n",
       "\n",
       "               15          16          17          18          19  \n",
       "count  540.000000  540.000000  540.000000  540.000000  540.000000  \n",
       "mean     0.668100    0.412403    0.110183    0.049199    0.118332  \n",
       "std      0.342478    0.235988    0.339631    0.690461    0.321474  \n",
       "min      0.135058   -0.525598   -4.759597  -14.180303   -0.317986  \n",
       "25%      0.506679    0.234931    0.068902    0.043733    0.025284  \n",
       "50%      0.650982    0.392575    0.134209    0.093567    0.072217  \n",
       "75%      0.774746    0.577214    0.208137    0.160520    0.131267  \n",
       "max      4.611532    0.978799    0.658505    0.660428    5.422786  "
      ]
     },
     "execution_count": 27,
     "metadata": {},
     "output_type": "execute_result"
    }
   ],
   "source": [
    "## Setting rules for our margin features. Generally margins cannot be greater than 1\n",
    "new_features = df[(df.iloc[:,18] < 1.0) & (df.iloc[:,17] < 1.0) & (df.iloc[:,16] < 1.0)]\n",
    "new_features.iloc[:,10:].describe()"
   ]
  },
  {
   "cell_type": "code",
   "execution_count": 28,
   "metadata": {},
   "outputs": [
    {
     "data": {
      "text/plain": [
       "-5.31213261604309"
      ]
     },
     "execution_count": 28,
     "metadata": {},
     "output_type": "execute_result"
    }
   ],
   "source": [
    "new_features.iloc[:,10].quantile(0.01)"
   ]
  },
  {
   "cell_type": "code",
   "execution_count": 29,
   "metadata": {},
   "outputs": [
    {
     "data": {
      "text/plain": [
       "-70.9026554107666"
      ]
     },
     "execution_count": 29,
     "metadata": {},
     "output_type": "execute_result"
    }
   ],
   "source": [
    "new_features.iloc[:,11].quantile(0.01)"
   ]
  },
  {
   "cell_type": "code",
   "execution_count": 30,
   "metadata": {},
   "outputs": [
    {
     "data": {
      "text/plain": [
       "-42.00734416961671"
      ]
     },
     "execution_count": 30,
     "metadata": {},
     "output_type": "execute_result"
    }
   ],
   "source": [
    "new_features.iloc[:,14].quantile(0.01)"
   ]
  },
  {
   "cell_type": "code",
   "execution_count": 31,
   "metadata": {},
   "outputs": [
    {
     "data": {
      "text/html": [
       "<div>\n",
       "<style scoped>\n",
       "    .dataframe tbody tr th:only-of-type {\n",
       "        vertical-align: middle;\n",
       "    }\n",
       "\n",
       "    .dataframe tbody tr th {\n",
       "        vertical-align: top;\n",
       "    }\n",
       "\n",
       "    .dataframe thead th {\n",
       "        text-align: right;\n",
       "    }\n",
       "</style>\n",
       "<table border=\"1\" class=\"dataframe\">\n",
       "  <thead>\n",
       "    <tr style=\"text-align: right;\">\n",
       "      <th></th>\n",
       "      <th>10</th>\n",
       "      <th>11</th>\n",
       "      <th>12</th>\n",
       "      <th>13</th>\n",
       "      <th>14</th>\n",
       "      <th>15</th>\n",
       "      <th>16</th>\n",
       "      <th>17</th>\n",
       "      <th>18</th>\n",
       "      <th>19</th>\n",
       "    </tr>\n",
       "  </thead>\n",
       "  <tbody>\n",
       "    <tr>\n",
       "      <th>count</th>\n",
       "      <td>512.000000</td>\n",
       "      <td>512.000000</td>\n",
       "      <td>512.000000</td>\n",
       "      <td>512.000000</td>\n",
       "      <td>512.000000</td>\n",
       "      <td>512.000000</td>\n",
       "      <td>512.000000</td>\n",
       "      <td>512.000000</td>\n",
       "      <td>512.000000</td>\n",
       "      <td>512.000000</td>\n",
       "    </tr>\n",
       "    <tr>\n",
       "      <th>mean</th>\n",
       "      <td>1.038974</td>\n",
       "      <td>7.133998</td>\n",
       "      <td>0.037973</td>\n",
       "      <td>0.037973</td>\n",
       "      <td>1.892793</td>\n",
       "      <td>0.660468</td>\n",
       "      <td>0.413457</td>\n",
       "      <td>0.120200</td>\n",
       "      <td>0.057058</td>\n",
       "      <td>0.120764</td>\n",
       "    </tr>\n",
       "    <tr>\n",
       "      <th>std</th>\n",
       "      <td>1.232399</td>\n",
       "      <td>24.697433</td>\n",
       "      <td>0.165082</td>\n",
       "      <td>0.165082</td>\n",
       "      <td>4.157594</td>\n",
       "      <td>0.344771</td>\n",
       "      <td>0.233722</td>\n",
       "      <td>0.312248</td>\n",
       "      <td>0.694109</td>\n",
       "      <td>0.329468</td>\n",
       "    </tr>\n",
       "    <tr>\n",
       "      <th>min</th>\n",
       "      <td>-4.440567</td>\n",
       "      <td>-67.912575</td>\n",
       "      <td>-1.984506</td>\n",
       "      <td>-1.984506</td>\n",
       "      <td>-29.083279</td>\n",
       "      <td>0.135058</td>\n",
       "      <td>-0.525598</td>\n",
       "      <td>-4.759597</td>\n",
       "      <td>-14.180303</td>\n",
       "      <td>-0.317986</td>\n",
       "    </tr>\n",
       "    <tr>\n",
       "      <th>25%</th>\n",
       "      <td>0.340326</td>\n",
       "      <td>-7.242527</td>\n",
       "      <td>0.016349</td>\n",
       "      <td>0.016349</td>\n",
       "      <td>0.951219</td>\n",
       "      <td>0.504448</td>\n",
       "      <td>0.241864</td>\n",
       "      <td>0.070067</td>\n",
       "      <td>0.045159</td>\n",
       "      <td>0.025224</td>\n",
       "    </tr>\n",
       "    <tr>\n",
       "      <th>50%</th>\n",
       "      <td>0.859086</td>\n",
       "      <td>4.611540</td>\n",
       "      <td>0.038972</td>\n",
       "      <td>0.038972</td>\n",
       "      <td>1.678660</td>\n",
       "      <td>0.645165</td>\n",
       "      <td>0.391726</td>\n",
       "      <td>0.134209</td>\n",
       "      <td>0.093337</td>\n",
       "      <td>0.072349</td>\n",
       "    </tr>\n",
       "    <tr>\n",
       "      <th>75%</th>\n",
       "      <td>1.495976</td>\n",
       "      <td>19.023428</td>\n",
       "      <td>0.070111</td>\n",
       "      <td>0.070111</td>\n",
       "      <td>2.750046</td>\n",
       "      <td>0.759031</td>\n",
       "      <td>0.576641</td>\n",
       "      <td>0.208419</td>\n",
       "      <td>0.160520</td>\n",
       "      <td>0.132464</td>\n",
       "    </tr>\n",
       "    <tr>\n",
       "      <th>max</th>\n",
       "      <td>8.100298</td>\n",
       "      <td>153.103455</td>\n",
       "      <td>1.083984</td>\n",
       "      <td>1.083984</td>\n",
       "      <td>16.457205</td>\n",
       "      <td>4.611532</td>\n",
       "      <td>0.978799</td>\n",
       "      <td>0.658505</td>\n",
       "      <td>0.660428</td>\n",
       "      <td>5.422786</td>\n",
       "    </tr>\n",
       "  </tbody>\n",
       "</table>\n",
       "</div>"
      ],
      "text/plain": [
       "               10          11          12          13          14          15  \\\n",
       "count  512.000000  512.000000  512.000000  512.000000  512.000000  512.000000   \n",
       "mean     1.038974    7.133998    0.037973    0.037973    1.892793    0.660468   \n",
       "std      1.232399   24.697433    0.165082    0.165082    4.157594    0.344771   \n",
       "min     -4.440567  -67.912575   -1.984506   -1.984506  -29.083279    0.135058   \n",
       "25%      0.340326   -7.242527    0.016349    0.016349    0.951219    0.504448   \n",
       "50%      0.859086    4.611540    0.038972    0.038972    1.678660    0.645165   \n",
       "75%      1.495976   19.023428    0.070111    0.070111    2.750046    0.759031   \n",
       "max      8.100298  153.103455    1.083984    1.083984   16.457205    4.611532   \n",
       "\n",
       "               16          17          18          19  \n",
       "count  512.000000  512.000000  512.000000  512.000000  \n",
       "mean     0.413457    0.120200    0.057058    0.120764  \n",
       "std      0.233722    0.312248    0.694109    0.329468  \n",
       "min     -0.525598   -4.759597  -14.180303   -0.317986  \n",
       "25%      0.241864    0.070067    0.045159    0.025224  \n",
       "50%      0.391726    0.134209    0.093337    0.072349  \n",
       "75%      0.576641    0.208419    0.160520    0.132464  \n",
       "max      0.978799    0.658505    0.660428    5.422786  "
      ]
     },
     "execution_count": 31,
     "metadata": {},
     "output_type": "execute_result"
    }
   ],
   "source": [
    "new_features = new_features[(new_features.iloc[:,10] < new_features.iloc[:,10].quantile(0.99)) & (new_features.iloc[:,11] < new_features.iloc[:,11].quantile(0.99)) & (new_features.iloc[:,14] < new_features.iloc[:,14].quantile(0.99)) & (new_features.iloc[:,10] > new_features.iloc[:,10].quantile(0.01)) & (new_features.iloc[:,11] > new_features.iloc[:,11].quantile(0.01)) & (new_features.iloc[:,14] > new_features.iloc[:,14].quantile(0.01))]\n",
    "new_features.iloc[:,10:].describe()"
   ]
  },
  {
   "cell_type": "code",
   "execution_count": 32,
   "metadata": {},
   "outputs": [
    {
     "data": {
      "text/plain": [
       "Moderate Buy     265\n",
       "Hold             129\n",
       "Strong Buy        75\n",
       "Moderate Sell     33\n",
       "Strong Sell       10\n",
       "Name: 20, dtype: int64"
      ]
     },
     "execution_count": 32,
     "metadata": {},
     "output_type": "execute_result"
    }
   ],
   "source": [
    "new_features[20].value_counts()"
   ]
  },
  {
   "cell_type": "code",
   "execution_count": 33,
   "metadata": {},
   "outputs": [],
   "source": [
    "## Encoding ratings into numerical data\n",
    "ratings = {\n",
    "    'Strong Sell': 0,\n",
    "    'Moderate Sell': 0,\n",
    "    'Hold': 1,\n",
    "    'Moderate Buy': 2,\n",
    "    'Strong Buy': 2\n",
    "}"
   ]
  },
  {
   "cell_type": "code",
   "execution_count": 34,
   "metadata": {},
   "outputs": [
    {
     "data": {
      "text/plain": [
       "2    340\n",
       "1    129\n",
       "0     43\n",
       "Name: 20, dtype: int64"
      ]
     },
     "execution_count": 34,
     "metadata": {},
     "output_type": "execute_result"
    }
   ],
   "source": [
    "new_features[20] = new_features[20].map(ratings)\n",
    "new_features[20].value_counts()"
   ]
  },
  {
   "cell_type": "code",
   "execution_count": 35,
   "metadata": {},
   "outputs": [],
   "source": [
    "X = new_features.values[:,:-1]\n",
    "Y = new_features.values[:,-1]"
   ]
  },
  {
   "cell_type": "code",
   "execution_count": 36,
   "metadata": {},
   "outputs": [],
   "source": [
    "## Train Test Split\n",
    "from sklearn.model_selection import train_test_split\n",
    "X_train, X_test, Y_train, Y_test = train_test_split(X, Y, test_size=0.2, stratify=Y)"
   ]
  },
  {
   "cell_type": "code",
   "execution_count": 37,
   "metadata": {},
   "outputs": [],
   "source": [
    "## Feature Scaling\n",
    "from sklearn.preprocessing import MinMaxScaler\n",
    "minmax = MinMaxScaler()\n",
    "X_train = minmax.fit_transform(X_train)\n",
    "X_test = minmax.transform(X_test)"
   ]
  },
  {
   "cell_type": "code",
   "execution_count": 38,
   "metadata": {},
   "outputs": [
    {
     "name": "stdout",
     "output_type": "stream",
     "text": [
      "0.65\n"
     ]
    }
   ],
   "source": [
    "## Logistic Regression\n",
    "from sklearn.linear_model import LogisticRegression\n",
    "from sklearn.metrics import accuracy_score\n",
    "model_lr = LogisticRegression(solver='lbfgs', multi_class='ovr')\n",
    "model_lr.fit(X_train, Y_train)\n",
    "y_pred_lr = model_lr.predict(X_test)\n",
    "print(round(accuracy_score(Y_test, y_pred_lr),2))"
   ]
  },
  {
   "cell_type": "code",
   "execution_count": 39,
   "metadata": {},
   "outputs": [
    {
     "data": {
      "text/plain": [
       "(array([1., 2.]), array([  1, 102], dtype=int64))"
      ]
     },
     "execution_count": 39,
     "metadata": {},
     "output_type": "execute_result"
    }
   ],
   "source": [
    "## Prediction results for Logistic Regression Model Above. Very biased model that only predicts 'Buy'\n",
    "np.unique(y_pred_lr, return_counts=True)"
   ]
  },
  {
   "cell_type": "code",
   "execution_count": 40,
   "metadata": {},
   "outputs": [],
   "source": [
    "minority = np.unique(Y_train, return_counts=True)[1][0]\n",
    "majority = np.unique(Y_train, return_counts=True)[1][2]"
   ]
  },
  {
   "cell_type": "code",
   "execution_count": 41,
   "metadata": {},
   "outputs": [
    {
     "name": "stdout",
     "output_type": "stream",
     "text": [
      "Undersampling: Average Accuracy of 0.42, Standard Deviation of 0.13\n"
     ]
    }
   ],
   "source": [
    "## Undersampling\n",
    "from imblearn.under_sampling import RandomUnderSampler\n",
    "us = RandomUnderSampler(sampling_strategy={0:minority,1:minority,2:minority}).fit(X_train, Y_train)\n",
    "X_train_us, Y_train_us = us.fit_resample(X_train, Y_train)\n",
    "model_us = LogisticRegression(solver='lbfgs', multi_class='ovr')\n",
    "model_us.fit(X_train_us, Y_train_us)\n",
    "y_pred_us = model_us.predict(X_test)\n",
    "from sklearn.model_selection import cross_val_score\n",
    "accuracies_us = cross_val_score(estimator = model_us, X = X_train_us, y = Y_train_us, cv = 10)\n",
    "print('Undersampling: Average Accuracy of {}, Standard Deviation of {}'.format(round(accuracies_us.mean(),2), round(accuracies_us.std(),2)))"
   ]
  },
  {
   "cell_type": "code",
   "execution_count": 42,
   "metadata": {},
   "outputs": [
    {
     "name": "stdout",
     "output_type": "stream",
     "text": [
      "SMOTE: Average Accuracy of 0.51, Standard Deviation of 0.05\n"
     ]
    }
   ],
   "source": [
    "## SMOTE\n",
    "from imblearn.over_sampling import SMOTE\n",
    "sm = SMOTE(sampling_strategy={0:majority,1:majority,2:majority})\n",
    "X_train_sm, Y_train_sm = sm.fit_sample(X_train, Y_train)\n",
    "model_sm = LogisticRegression(solver='lbfgs', multi_class='ovr').fit(X_train_sm, Y_train_sm)\n",
    "y_pred_sm = model_sm.predict(X_test)\n",
    "accuracies_sm = cross_val_score(estimator = model_sm, X = X_train_sm, y = Y_train_sm, cv = 10)\n",
    "print('SMOTE: Average Accuracy of {}, Standard Deviation of {}'.format(round(accuracies_sm.mean(),2), round(accuracies_sm.std(),2)))"
   ]
  },
  {
   "cell_type": "code",
   "execution_count": 43,
   "metadata": {},
   "outputs": [],
   "source": [
    "## Grid Search and Hyperparameter Tuning\n",
    "from sklearn.model_selection import GridSearchCV\n",
    "parameters = [\n",
    "            {\n",
    "                'C': [800, 900, 1000, 1100, 1200, 1300, 1400, 1500],\n",
    "                'solver': ['newton-cg'],\n",
    "                'multi_class':['ovr', 'multinomial']\n",
    "            },\n",
    "        ]\n",
    "grid_search = GridSearchCV(estimator = model_sm, param_grid = parameters, scoring='accuracy', cv = 10)\n",
    "grid_search = grid_search.fit(X = X_train_sm, y = Y_train_sm)\n",
    "best_accuracy = grid_search.best_score_\n",
    "best_parameters = grid_search.best_params_"
   ]
  },
  {
   "cell_type": "code",
   "execution_count": 44,
   "metadata": {},
   "outputs": [
    {
     "data": {
      "text/plain": [
       "0.5845588235294118"
      ]
     },
     "execution_count": 44,
     "metadata": {},
     "output_type": "execute_result"
    }
   ],
   "source": [
    "best_accuracy"
   ]
  },
  {
   "cell_type": "code",
   "execution_count": 45,
   "metadata": {},
   "outputs": [
    {
     "data": {
      "text/plain": [
       "{'C': 800, 'multi_class': 'multinomial', 'solver': 'newton-cg'}"
      ]
     },
     "execution_count": 45,
     "metadata": {},
     "output_type": "execute_result"
    }
   ],
   "source": [
    "best_parameters"
   ]
  },
  {
   "cell_type": "code",
   "execution_count": 46,
   "metadata": {},
   "outputs": [],
   "source": [
    "## Feature Selection for Model Optimization Using Backward Elimination Method\n",
    "import statsmodels.formula.api as sm\n",
    "## Features after Backward Elimination Method: We will keep all our features\n",
    "X_opt = X_train_sm[:, [0,1,2,3,4,5,6,7,8,9,10,11,12,13,14,15,16,17,18,19]]\n",
    "Y_opt = Y_train_sm"
   ]
  },
  {
   "cell_type": "code",
   "execution_count": 47,
   "metadata": {},
   "outputs": [
    {
     "data": {
      "text/html": [
       "<table class=\"simpletable\">\n",
       "<caption>OLS Regression Results</caption>\n",
       "<tr>\n",
       "  <th>Dep. Variable:</th>            <td>y</td>        <th>  R-squared:         </th> <td>   0.707</td> \n",
       "</tr>\n",
       "<tr>\n",
       "  <th>Model:</th>                   <td>OLS</td>       <th>  Adj. R-squared:    </th> <td>   0.700</td> \n",
       "</tr>\n",
       "<tr>\n",
       "  <th>Method:</th>             <td>Least Squares</td>  <th>  F-statistic:       </th> <td>   101.2</td> \n",
       "</tr>\n",
       "<tr>\n",
       "  <th>Date:</th>             <td>Fri, 13 Sep 2019</td> <th>  Prob (F-statistic):</th> <td>2.50e-197</td>\n",
       "</tr>\n",
       "<tr>\n",
       "  <th>Time:</th>                 <td>20:01:46</td>     <th>  Log-Likelihood:    </th> <td> -865.55</td> \n",
       "</tr>\n",
       "<tr>\n",
       "  <th>No. Observations:</th>      <td>   816</td>      <th>  AIC:               </th> <td>   1769.</td> \n",
       "</tr>\n",
       "<tr>\n",
       "  <th>Df Residuals:</th>          <td>   797</td>      <th>  BIC:               </th> <td>   1858.</td> \n",
       "</tr>\n",
       "<tr>\n",
       "  <th>Df Model:</th>              <td>    19</td>      <th>                     </th>     <td> </td>    \n",
       "</tr>\n",
       "<tr>\n",
       "  <th>Covariance Type:</th>      <td>nonrobust</td>    <th>                     </th>     <td> </td>    \n",
       "</tr>\n",
       "</table>\n",
       "<table class=\"simpletable\">\n",
       "<tr>\n",
       "   <td></td>      <th>coef</th>     <th>std err</th>      <th>t</th>      <th>P>|t|</th>  <th>[0.025</th>    <th>0.975]</th>  \n",
       "</tr>\n",
       "<tr>\n",
       "  <th>x1</th>  <td>    0.2878</td> <td>    0.105</td> <td>    2.732</td> <td> 0.006</td> <td>    0.081</td> <td>    0.495</td>\n",
       "</tr>\n",
       "<tr>\n",
       "  <th>x2</th>  <td>    0.5985</td> <td>    0.127</td> <td>    4.715</td> <td> 0.000</td> <td>    0.349</td> <td>    0.848</td>\n",
       "</tr>\n",
       "<tr>\n",
       "  <th>x3</th>  <td>    0.6980</td> <td>    0.143</td> <td>    4.873</td> <td> 0.000</td> <td>    0.417</td> <td>    0.979</td>\n",
       "</tr>\n",
       "<tr>\n",
       "  <th>x4</th>  <td>    1.2042</td> <td>    0.170</td> <td>    7.072</td> <td> 0.000</td> <td>    0.870</td> <td>    1.538</td>\n",
       "</tr>\n",
       "<tr>\n",
       "  <th>x5</th>  <td>    0.6461</td> <td>    0.122</td> <td>    5.312</td> <td> 0.000</td> <td>    0.407</td> <td>    0.885</td>\n",
       "</tr>\n",
       "<tr>\n",
       "  <th>x6</th>  <td>    0.4823</td> <td>    0.114</td> <td>    4.226</td> <td> 0.000</td> <td>    0.258</td> <td>    0.706</td>\n",
       "</tr>\n",
       "<tr>\n",
       "  <th>x7</th>  <td>    0.4906</td> <td>    0.113</td> <td>    4.360</td> <td> 0.000</td> <td>    0.270</td> <td>    0.711</td>\n",
       "</tr>\n",
       "<tr>\n",
       "  <th>x8</th>  <td>    0.7813</td> <td>    0.147</td> <td>    5.324</td> <td> 0.000</td> <td>    0.493</td> <td>    1.069</td>\n",
       "</tr>\n",
       "<tr>\n",
       "  <th>x9</th>  <td>    1.0119</td> <td>    0.196</td> <td>    5.167</td> <td> 0.000</td> <td>    0.628</td> <td>    1.396</td>\n",
       "</tr>\n",
       "<tr>\n",
       "  <th>x10</th> <td>    0.4679</td> <td>    0.138</td> <td>    3.381</td> <td> 0.001</td> <td>    0.196</td> <td>    0.740</td>\n",
       "</tr>\n",
       "<tr>\n",
       "  <th>x11</th> <td>    3.1929</td> <td>    0.317</td> <td>   10.085</td> <td> 0.000</td> <td>    2.571</td> <td>    3.814</td>\n",
       "</tr>\n",
       "<tr>\n",
       "  <th>x12</th> <td>   -1.1273</td> <td>    0.302</td> <td>   -3.730</td> <td> 0.000</td> <td>   -1.721</td> <td>   -0.534</td>\n",
       "</tr>\n",
       "<tr>\n",
       "  <th>x13</th> <td>   -1.0485</td> <td>    0.337</td> <td>   -3.112</td> <td> 0.002</td> <td>   -1.710</td> <td>   -0.387</td>\n",
       "</tr>\n",
       "<tr>\n",
       "  <th>x14</th> <td>   -1.0485</td> <td>    0.337</td> <td>   -3.112</td> <td> 0.002</td> <td>   -1.710</td> <td>   -0.387</td>\n",
       "</tr>\n",
       "<tr>\n",
       "  <th>x15</th> <td>    1.1289</td> <td>    0.361</td> <td>    3.127</td> <td> 0.002</td> <td>    0.420</td> <td>    1.837</td>\n",
       "</tr>\n",
       "<tr>\n",
       "  <th>x16</th> <td>   -0.7204</td> <td>    0.343</td> <td>   -2.099</td> <td> 0.036</td> <td>   -1.394</td> <td>   -0.047</td>\n",
       "</tr>\n",
       "<tr>\n",
       "  <th>x17</th> <td>    0.3278</td> <td>    0.130</td> <td>    2.519</td> <td> 0.012</td> <td>    0.072</td> <td>    0.583</td>\n",
       "</tr>\n",
       "<tr>\n",
       "  <th>x18</th> <td>    1.5969</td> <td>    0.769</td> <td>    2.078</td> <td> 0.038</td> <td>    0.088</td> <td>    3.106</td>\n",
       "</tr>\n",
       "<tr>\n",
       "  <th>x19</th> <td>   -1.7019</td> <td>    0.758</td> <td>   -2.246</td> <td> 0.025</td> <td>   -3.189</td> <td>   -0.215</td>\n",
       "</tr>\n",
       "<tr>\n",
       "  <th>x20</th> <td>    3.2869</td> <td>    0.568</td> <td>    5.787</td> <td> 0.000</td> <td>    2.172</td> <td>    4.402</td>\n",
       "</tr>\n",
       "</table>\n",
       "<table class=\"simpletable\">\n",
       "<tr>\n",
       "  <th>Omnibus:</th>       <td>58.066</td> <th>  Durbin-Watson:     </th> <td>   1.084</td>\n",
       "</tr>\n",
       "<tr>\n",
       "  <th>Prob(Omnibus):</th> <td> 0.000</td> <th>  Jarque-Bera (JB):  </th> <td>  26.441</td>\n",
       "</tr>\n",
       "<tr>\n",
       "  <th>Skew:</th>          <td> 0.236</td> <th>  Prob(JB):          </th> <td>1.81e-06</td>\n",
       "</tr>\n",
       "<tr>\n",
       "  <th>Kurtosis:</th>      <td> 2.255</td> <th>  Cond. No.          </th> <td>2.69e+17</td>\n",
       "</tr>\n",
       "</table><br/><br/>Warnings:<br/>[1] Standard Errors assume that the covariance matrix of the errors is correctly specified.<br/>[2] The smallest eigenvalue is 3.98e-32. This might indicate that there are<br/>strong multicollinearity problems or that the design matrix is singular."
      ],
      "text/plain": [
       "<class 'statsmodels.iolib.summary.Summary'>\n",
       "\"\"\"\n",
       "                            OLS Regression Results                            \n",
       "==============================================================================\n",
       "Dep. Variable:                      y   R-squared:                       0.707\n",
       "Model:                            OLS   Adj. R-squared:                  0.700\n",
       "Method:                 Least Squares   F-statistic:                     101.2\n",
       "Date:                Fri, 13 Sep 2019   Prob (F-statistic):          2.50e-197\n",
       "Time:                        20:01:46   Log-Likelihood:                -865.55\n",
       "No. Observations:                 816   AIC:                             1769.\n",
       "Df Residuals:                     797   BIC:                             1858.\n",
       "Df Model:                          19                                         \n",
       "Covariance Type:            nonrobust                                         \n",
       "==============================================================================\n",
       "                 coef    std err          t      P>|t|      [0.025      0.975]\n",
       "------------------------------------------------------------------------------\n",
       "x1             0.2878      0.105      2.732      0.006       0.081       0.495\n",
       "x2             0.5985      0.127      4.715      0.000       0.349       0.848\n",
       "x3             0.6980      0.143      4.873      0.000       0.417       0.979\n",
       "x4             1.2042      0.170      7.072      0.000       0.870       1.538\n",
       "x5             0.6461      0.122      5.312      0.000       0.407       0.885\n",
       "x6             0.4823      0.114      4.226      0.000       0.258       0.706\n",
       "x7             0.4906      0.113      4.360      0.000       0.270       0.711\n",
       "x8             0.7813      0.147      5.324      0.000       0.493       1.069\n",
       "x9             1.0119      0.196      5.167      0.000       0.628       1.396\n",
       "x10            0.4679      0.138      3.381      0.001       0.196       0.740\n",
       "x11            3.1929      0.317     10.085      0.000       2.571       3.814\n",
       "x12           -1.1273      0.302     -3.730      0.000      -1.721      -0.534\n",
       "x13           -1.0485      0.337     -3.112      0.002      -1.710      -0.387\n",
       "x14           -1.0485      0.337     -3.112      0.002      -1.710      -0.387\n",
       "x15            1.1289      0.361      3.127      0.002       0.420       1.837\n",
       "x16           -0.7204      0.343     -2.099      0.036      -1.394      -0.047\n",
       "x17            0.3278      0.130      2.519      0.012       0.072       0.583\n",
       "x18            1.5969      0.769      2.078      0.038       0.088       3.106\n",
       "x19           -1.7019      0.758     -2.246      0.025      -3.189      -0.215\n",
       "x20            3.2869      0.568      5.787      0.000       2.172       4.402\n",
       "==============================================================================\n",
       "Omnibus:                       58.066   Durbin-Watson:                   1.084\n",
       "Prob(Omnibus):                  0.000   Jarque-Bera (JB):               26.441\n",
       "Skew:                           0.236   Prob(JB):                     1.81e-06\n",
       "Kurtosis:                       2.255   Cond. No.                     2.69e+17\n",
       "==============================================================================\n",
       "\n",
       "Warnings:\n",
       "[1] Standard Errors assume that the covariance matrix of the errors is correctly specified.\n",
       "[2] The smallest eigenvalue is 3.98e-32. This might indicate that there are\n",
       "strong multicollinearity problems or that the design matrix is singular.\n",
       "\"\"\""
      ]
     },
     "execution_count": 47,
     "metadata": {},
     "output_type": "execute_result"
    }
   ],
   "source": [
    "classification_OLS = sm.OLS(endog=Y_opt, exog = X_opt).fit()\n",
    "classification_OLS.summary()"
   ]
  },
  {
   "cell_type": "code",
   "execution_count": 48,
   "metadata": {},
   "outputs": [],
   "source": [
    "model_opt = LogisticRegression(C= best_parameters['C'], multi_class= best_parameters['multi_class'], solver= best_parameters['solver']).fit(X_opt, Y_opt)\n",
    "y_pred_opt = model_opt.predict(X_test[:, [0,1,2,3,4,5,6,7,8,9,10,11,12,13,14,15,16,17,18,19]])"
   ]
  },
  {
   "cell_type": "code",
   "execution_count": 49,
   "metadata": {},
   "outputs": [
    {
     "name": "stdout",
     "output_type": "stream",
     "text": [
      "Logistic Regression Optimial: Average Accuracy of 0.58, Standard Deviation of 0.04\n"
     ]
    }
   ],
   "source": [
    "accuracies_opt = cross_val_score(estimator = model_opt, X = X_opt, y = Y_opt, cv = 10)\n",
    "print('Logistic Regression Optimial: Average Accuracy of {}, Standard Deviation of {}'.format(round(accuracies_opt.mean(),2), round(accuracies_opt.std(),2)))"
   ]
  },
  {
   "cell_type": "code",
   "execution_count": 50,
   "metadata": {},
   "outputs": [
    {
     "name": "stdout",
     "output_type": "stream",
     "text": [
      "0.45\n"
     ]
    }
   ],
   "source": [
    "print(round(accuracy_score(Y_test, y_pred_opt),2))"
   ]
  },
  {
   "cell_type": "code",
   "execution_count": 51,
   "metadata": {},
   "outputs": [],
   "source": [
    "## Random Forest Classifier\n",
    "from sklearn.ensemble import RandomForestClassifier\n",
    "model_rf = RandomForestClassifier(n_estimators = 100, criterion = 'entropy').fit(X_opt, Y_opt)\n",
    "y_pred_rf = model_rf.predict(X_test[:, [0,1,2,3,4,5,6,7,8,9,10,11,12,13,14,15,16,17,18,19]])"
   ]
  },
  {
   "cell_type": "code",
   "execution_count": 52,
   "metadata": {},
   "outputs": [
    {
     "name": "stdout",
     "output_type": "stream",
     "text": [
      "Random Forest: Average Accuracy of 0.77, Standard Deviation of 0.04\n"
     ]
    }
   ],
   "source": [
    "accuracies_rf = cross_val_score(estimator = model_rf, X = X_opt, y = Y_opt, cv = 10)\n",
    "print('Random Forest: Average Accuracy of {}, Standard Deviation of {}'.format(round(accuracies_rf.mean(),2), round(accuracies_rf.std(),2)))"
   ]
  },
  {
   "cell_type": "code",
   "execution_count": 53,
   "metadata": {},
   "outputs": [
    {
     "name": "stdout",
     "output_type": "stream",
     "text": [
      "0.6\n"
     ]
    }
   ],
   "source": [
    "print(round(accuracy_score(Y_test, y_pred_rf),2))"
   ]
  },
  {
   "cell_type": "code",
   "execution_count": 54,
   "metadata": {},
   "outputs": [],
   "source": [
    "## Pickle Model\n",
    "import pickle\n",
    "filename = 'model.pkl'\n",
    "pickle.dump(model_rf, open(filename, 'wb'))\n",
    "\n",
    "## Load Model\n",
    "#model = pickle.load(open(filename, 'rb'))\n",
    "\n",
    "## For MinMax Scaling\n",
    "maximum = X_train.iloc[:,[0,1,2,3,4,5,6,7,8,9,10,11,12,13,14,15,16,17,18,19]].max()\n",
    "minimum = X_train.iloc[:,[0,1,2,3,4,5,6,7,8,9,10,11,12,13,14,15,16,17,18,19]].min()\n",
    "maximum.to_csv('./datasets/featurescalingmax.csv', header=True)\n",
    "minimum.to_csv('./datasets/featurescalingmin.csv', header=True)"
   ]
  },
  {
   "cell_type": "code",
   "execution_count": null,
   "metadata": {},
   "outputs": [],
   "source": []
  }
 ],
 "metadata": {
  "kernelspec": {
   "display_name": "Python 3",
   "language": "python",
   "name": "python3"
  },
  "language_info": {
   "codemirror_mode": {
    "name": "ipython",
    "version": 3
   },
   "file_extension": ".py",
   "mimetype": "text/x-python",
   "name": "python",
   "nbconvert_exporter": "python",
   "pygments_lexer": "ipython3",
   "version": "3.7.3"
  }
 },
 "nbformat": 4,
 "nbformat_minor": 2
}
