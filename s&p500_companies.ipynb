{
 "cells": [
  {
   "cell_type": "code",
   "execution_count": 1,
   "metadata": {},
   "outputs": [],
   "source": [
    "# Import Libraries for data extraction\n",
    "import numpy as np\n",
    "import pandas as pd\n",
    "import requests\n",
    "import bs4\n",
    "from bs4 import BeautifulSoup"
   ]
  },
  {
   "cell_type": "code",
   "execution_count": 2,
   "metadata": {},
   "outputs": [],
   "source": [
    "# Get List of S&P500 Companies\n",
    "r = requests.get('https://en.wikipedia.org/wiki/List_of_S%26P_500_companies')\n",
    "soup = bs4.BeautifulSoup(r.text, \"html.parser\")\n",
    "companylist = soup.findAll('td')"
   ]
  },
  {
   "cell_type": "code",
   "execution_count": 3,
   "metadata": {},
   "outputs": [],
   "source": [
    "tickers = []\n",
    "company = []\n",
    "gics = []"
   ]
  },
  {
   "cell_type": "code",
   "execution_count": 4,
   "metadata": {},
   "outputs": [],
   "source": [
    "## Web Scraping off of wikipedia to get a list of the companies in the S&P500 by ticker, name, and sector code\n",
    "for i in range(0,5783, 9):\n",
    "    if len(tickers) > 504:\n",
    "        break\n",
    "    else:\n",
    "        tickers.append(companylist[i].text.strip())\n",
    "for i in range(1,5783, 9):\n",
    "    if len(company) > 504:\n",
    "        break\n",
    "    else:\n",
    "        company.append(companylist[i].text.strip())\n",
    "for i in range(3, 5783, 9):\n",
    "    if len(gics) > 504:\n",
    "        break\n",
    "    else:\n",
    "        gics.append(companylist[i].text.strip())"
   ]
  },
  {
   "cell_type": "code",
   "execution_count": 5,
   "metadata": {},
   "outputs": [],
   "source": [
    "## Creating NumPy array of data\n",
    "sp500 = np.array([tickers[0], company[0], gics[0]])\n",
    "for i in range(1,len(tickers)):\n",
    "    sp500 = np.append(sp500, [tickers[i], company[i], gics[i]])"
   ]
  },
  {
   "cell_type": "code",
   "execution_count": 6,
   "metadata": {},
   "outputs": [],
   "source": [
    "## Creating dataframe of s&p500 companies\n",
    "sp500 = sp500.reshape(505,3)\n",
    "column_name = ['ticker', 'company', 'sector']\n",
    "df = pd.DataFrame(sp500, columns = column_name)"
   ]
  },
  {
   "cell_type": "code",
   "execution_count": 7,
   "metadata": {},
   "outputs": [],
   "source": [
    "## Exporting s&p500 company listing to csv file\n",
    "df.to_csv('./datasets/s&p500companies.csv')"
   ]
  },
  {
   "cell_type": "code",
   "execution_count": null,
   "metadata": {},
   "outputs": [],
   "source": []
  }
 ],
 "metadata": {
  "kernelspec": {
   "display_name": "Python 3",
   "language": "python",
   "name": "python3"
  },
  "language_info": {
   "codemirror_mode": {
    "name": "ipython",
    "version": 3
   },
   "file_extension": ".py",
   "mimetype": "text/x-python",
   "name": "python",
   "nbconvert_exporter": "python",
   "pygments_lexer": "ipython3",
   "version": "3.7.3"
  }
 },
 "nbformat": 4,
 "nbformat_minor": 2
}
