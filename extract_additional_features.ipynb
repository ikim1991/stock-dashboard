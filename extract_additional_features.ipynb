{
 "cells": [
  {
   "cell_type": "code",
   "execution_count": 1,
   "metadata": {},
   "outputs": [],
   "source": [
    "import pandas as pd\n",
    "import numpy as np\n",
    "import requests\n",
    "import bs4\n",
    "from bs4 import BeautifulSoup\n",
    "import psycopg2"
   ]
  },
  {
   "cell_type": "code",
   "execution_count": 2,
   "metadata": {},
   "outputs": [],
   "source": [
    "df = pd.read_csv('./datasets/companylisting.csv')\n",
    "tickers = df['ticker'].values"
   ]
  },
  {
   "cell_type": "code",
   "execution_count": 3,
   "metadata": {},
   "outputs": [
    {
     "name": "stdout",
     "output_type": "stream",
     "text": [
      "Error Retrieving Data for HRZN\n"
     ]
    }
   ],
   "source": [
    "shares_outstanding = []\n",
    "for t in tickers:\n",
    "    try:\n",
    "        r = requests.get('https://www.marketwatch.com/investing/stock/{}'.format(t.replace('-', '.')))\n",
    "        soup = bs4.BeautifulSoup(r.text, \"html.parser\")\n",
    "        if soup.findAll('span', {'class':'kv__value kv__primary'})[4].text.strip().lower() == 'n/a':\n",
    "            shares_outstanding.append(soup.findAll('span', {'class':'kv__value kv__primary'})[5].text.strip())\n",
    "        else:\n",
    "            shares_outstanding.append(soup.findAll('span', {'class':'kv__value kv__primary'})[4].text.strip())\n",
    "    except:\n",
    "        print('Error Retrieving Data for {}'.format(t))\n",
    "        shares_outstanding.append(np.nan)"
   ]
  },
  {
   "cell_type": "code",
   "execution_count": 51,
   "metadata": {},
   "outputs": [],
   "source": [
    "column_names = ['ticker', 'shares_outstanding']\n",
    "df = []\n",
    "for i in range(len(tickers)):\n",
    "    df.append([tickers[i], shares_outstanding[i]])"
   ]
  },
  {
   "cell_type": "code",
   "execution_count": 52,
   "metadata": {},
   "outputs": [],
   "source": [
    "df = pd.DataFrame(df, columns=column_names)"
   ]
  },
  {
   "cell_type": "code",
   "execution_count": 53,
   "metadata": {},
   "outputs": [
    {
     "name": "stdout",
     "output_type": "stream",
     "text": [
      "nan 329\n",
      "37.67 477\n",
      "29.29 711\n"
     ]
    }
   ],
   "source": [
    "for i,v in enumerate(df['shares_outstanding']):\n",
    "    try:\n",
    "        print(float(v), i)\n",
    "    except:\n",
    "        continue"
   ]
  },
  {
   "cell_type": "code",
   "execution_count": 54,
   "metadata": {},
   "outputs": [
    {
     "name": "stdout",
     "output_type": "stream",
     "text": [
      "723K 104\n",
      "$738.18K 143\n",
      "$266.34K 429\n"
     ]
    }
   ],
   "source": [
    "for i,v in enumerate(df['shares_outstanding']):\n",
    "    try:\n",
    "        if '$' in v or 'K' in v:\n",
    "            print(v, i)\n",
    "    except:\n",
    "        continue"
   ]
  },
  {
   "cell_type": "code",
   "execution_count": 55,
   "metadata": {},
   "outputs": [],
   "source": [
    "df.loc[143]['shares_outstanding'] = '2.45B'\n",
    "df.loc[329]['shares_outstanding'] = '11.52M'\n",
    "df.loc[429]['shares_outstanding'] = '46.79M'\n",
    "df.loc[477]['shares_outstanding'] = '320.71M'\n",
    "df.loc[711]['shares_outstanding'] = '269.9M'"
   ]
  },
  {
   "cell_type": "code",
   "execution_count": 56,
   "metadata": {},
   "outputs": [],
   "source": [
    "for i in range(len(df)):\n",
    "    if type(df.loc[i]['shares_outstanding']) == str:\n",
    "        if 'M' in df.loc[i]['shares_outstanding']:\n",
    "            df.loc[i]['shares_outstanding'] = float(df.loc[i]['shares_outstanding'].replace('M', '')) * 1000000\n",
    "        elif 'B' in df.loc[i]['shares_outstanding']:\n",
    "            df.loc[i]['shares_outstanding'] = float(df.loc[i]['shares_outstanding'].replace('B', '')) * 1000000000\n",
    "        else:\n",
    "            df.loc[i]['shares_outstanding'] = float(df.loc[i]['shares_outstanding'].replace('K', '')) * 1000\n",
    "    else:\n",
    "        continue"
   ]
  },
  {
   "cell_type": "code",
   "execution_count": 58,
   "metadata": {},
   "outputs": [],
   "source": [
    "df.to_csv('./datasets/shares_outstanding.csv')"
   ]
  },
  {
   "cell_type": "code",
   "execution_count": 59,
   "metadata": {},
   "outputs": [],
   "source": [
    "## Connect to SQL database\n",
    "conn = psycopg2.connect(database = 'cuzegotk',user = 'cuzegotk',password = 'NekW2BqJ8hW1wO3hCdpuEESPiP-y131V',host = 'raja.db.elephantsql.com')\n",
    "cur = conn.cursor()\n",
    "## Transfer CSV to SQL Database\n",
    "for i in range(0,len(df)):\n",
    "    cur.execute('INSERT INTO sharesoutstanding VALUES (%s, %s)', tuple(df.iloc[i,:].values))\n",
    "    conn.commit()\n",
    "cur.close()\n",
    "conn.close()"
   ]
  },
  {
   "cell_type": "code",
   "execution_count": null,
   "metadata": {},
   "outputs": [],
   "source": []
  }
 ],
 "metadata": {
  "kernelspec": {
   "display_name": "Python 3",
   "language": "python",
   "name": "python3"
  },
  "language_info": {
   "codemirror_mode": {
    "name": "ipython",
    "version": 3
   },
   "file_extension": ".py",
   "mimetype": "text/x-python",
   "name": "python",
   "nbconvert_exporter": "python",
   "pygments_lexer": "ipython3",
   "version": "3.7.3"
  }
 },
 "nbformat": 4,
 "nbformat_minor": 2
}
